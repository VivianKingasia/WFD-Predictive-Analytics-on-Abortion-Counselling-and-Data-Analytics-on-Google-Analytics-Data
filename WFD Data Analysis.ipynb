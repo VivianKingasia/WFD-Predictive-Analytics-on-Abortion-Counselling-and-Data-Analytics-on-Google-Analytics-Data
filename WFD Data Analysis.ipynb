{
 "cells": [
  {
   "cell_type": "code",
   "execution_count": null,
   "id": "2b14785a",
   "metadata": {},
   "outputs": [],
   "source": [
    "- Questions to Answer\n",
    "\n"
   ]
  },
  {
   "cell_type": "code",
   "execution_count": 74,
   "id": "8eee4512",
   "metadata": {},
   "outputs": [
    {
     "ename": "ModuleNotFoundError",
     "evalue": "No module named 'pycaret'",
     "output_type": "error",
     "traceback": [
      "\u001b[1;31m---------------------------------------------------------------------------\u001b[0m",
      "\u001b[1;31mModuleNotFoundError\u001b[0m                       Traceback (most recent call last)",
      "Input \u001b[1;32mIn [74]\u001b[0m, in \u001b[0;36m<cell line: 36>\u001b[1;34m()\u001b[0m\n\u001b[0;32m     18\u001b[0m \u001b[38;5;28;01mimport\u001b[39;00m \u001b[38;5;21;01mplotly\u001b[39;00m\u001b[38;5;21;01m.\u001b[39;00m\u001b[38;5;21;01mgraph_objs\u001b[39;00m \u001b[38;5;28;01mas\u001b[39;00m \u001b[38;5;21;01mgo\u001b[39;00m\n\u001b[0;32m     20\u001b[0m \u001b[38;5;66;03m# import panel as pn\u001b[39;00m\n\u001b[0;32m     21\u001b[0m \u001b[38;5;66;03m# pn.extension(\"tabulator\", sizing_mode=\"stretch_width\")\u001b[39;00m\n\u001b[0;32m     22\u001b[0m \n\u001b[1;32m   (...)\u001b[0m\n\u001b[0;32m     33\u001b[0m \n\u001b[0;32m     34\u001b[0m \u001b[38;5;66;03m# preprocesing\u001b[39;00m\n\u001b[1;32m---> 36\u001b[0m \u001b[38;5;28;01mfrom\u001b[39;00m \u001b[38;5;21;01mpycaret\u001b[39;00m\u001b[38;5;21;01m.\u001b[39;00m\u001b[38;5;21;01mclassification\u001b[39;00m \u001b[38;5;28;01mimport\u001b[39;00m \u001b[38;5;241m*\u001b[39m\n\u001b[0;32m     38\u001b[0m \u001b[38;5;66;03m# modeling libraries\u001b[39;00m\n\u001b[0;32m     39\u001b[0m get_ipython()\u001b[38;5;241m.\u001b[39msystem(\u001b[38;5;124m'\u001b[39m\u001b[38;5;124mpip install pyCaret\u001b[39m\u001b[38;5;124m'\u001b[39m)\n",
      "\u001b[1;31mModuleNotFoundError\u001b[0m: No module named 'pycaret'"
     ]
    }
   ],
   "source": [
    "# loading relevant libraries\n",
    "\n",
    "import pandas as pd\n",
    "\n",
    "import numpy as np\n",
    "\n",
    "import json\n",
    "import matplotlib.pyplot as plt\n",
    "%matplotlib inline\n",
    "plt.rcParams['figure.figsize'] = (12, 8)\n",
    "# plt.style.available\n",
    "# plt.style.use('ggplot')\n",
    "plt.style.use('seaborn-pastel')\n",
    "import seaborn as sns\n",
    "\n",
    "import plotly as py\n",
    "from plotly.offline import download_plotlyjs, init_notebook_mode, plot, iplot\n",
    "import plotly.graph_objs as go\n",
    "\n",
    "# import panel as pn\n",
    "# pn.extension(\"tabulator\", sizing_mode=\"stretch_width\")\n",
    "\n",
    "# import hvplot.pandas\n",
    "# import holoviews as hv\n",
    "# hv.extension(\"bokeh\")\n",
    "\n",
    "# !pip install voila ==0.3.0a2\n",
    "\n",
    "\n",
    "# ! pip install plotly dash flask\n",
    "\n",
    "#for pycaret\n",
    "\n",
    "# preprocesing\n",
    "\n",
    "from pycaret.classification import *\n",
    "\n",
    "# modeling libraries\n",
    "# !pip install pyCaret\n",
    "\n",
    "# deploying the model\n",
    "from fastapi import FastAPI\n",
    "import uvicorn\n",
    "\n",
    "# ! pip install fastapi\n",
    "# ! pip install uvicorn"
   ]
  },
  {
   "cell_type": "code",
   "execution_count": 9,
   "id": "26f81b28",
   "metadata": {},
   "outputs": [
    {
     "data": {
      "text/html": [
       "<div>\n",
       "<style scoped>\n",
       "    .dataframe tbody tr th:only-of-type {\n",
       "        vertical-align: middle;\n",
       "    }\n",
       "\n",
       "    .dataframe tbody tr th {\n",
       "        vertical-align: top;\n",
       "    }\n",
       "\n",
       "    .dataframe thead th {\n",
       "        text-align: right;\n",
       "    }\n",
       "</style>\n",
       "<table border=\"1\" class=\"dataframe\">\n",
       "  <thead>\n",
       "    <tr style=\"text-align: right;\">\n",
       "      <th></th>\n",
       "      <th>Ticket ID</th>\n",
       "      <th>Status</th>\n",
       "      <th>Source</th>\n",
       "      <th>Agent</th>\n",
       "      <th>Group</th>\n",
       "      <th>Created time</th>\n",
       "      <th>Month</th>\n",
       "      <th>Last update time</th>\n",
       "      <th>Resolution time (in hrs)</th>\n",
       "      <th>Agent interactions</th>\n",
       "      <th>Customer interactions</th>\n",
       "      <th>First response status</th>\n",
       "      <th>Tags</th>\n",
       "      <th>Countries (NEW)</th>\n",
       "      <th>Region</th>\n",
       "      <th>Agent 2</th>\n",
       "      <th>Agent 3</th>\n",
       "      <th>Language</th>\n",
       "      <th>City</th>\n",
       "      <th>Age</th>\n",
       "      <th>Gestational weeks at first contact</th>\n",
       "      <th>+ days</th>\n",
       "      <th>Main reason for contact</th>\n",
       "      <th>Subreason 1</th>\n",
       "      <th>Subreason 2</th>\n",
       "      <th>2nd reason for contact</th>\n",
       "      <th>2nd Subreason 1</th>\n",
       "      <th>3rd reason for contact</th>\n",
       "      <th>3rd Subreason 1</th>\n",
       "      <th>In possession of pills</th>\n",
       "      <th>Kind of pills</th>\n",
       "      <th>Amount of pills</th>\n",
       "      <th>Abortion method counselled on</th>\n",
       "      <th>MA</th>\n",
       "      <th>MVA/EVA</th>\n",
       "      <th>D&amp;E</th>\n",
       "      <th>Induction</th>\n",
       "      <th>PAC</th>\n",
       "      <th>Referral</th>\n",
       "      <th>Ability to pay for referral services/products</th>\n",
       "      <th>Reason for not referring</th>\n",
       "      <th>Reason for referral</th>\n",
       "      <th>ref-Subreason 1</th>\n",
       "      <th>Referred to on-the-ground org</th>\n",
       "      <th>Referred to direct provider</th>\n",
       "    </tr>\n",
       "  </thead>\n",
       "  <tbody>\n",
       "    <tr>\n",
       "      <th>0</th>\n",
       "      <td>92854</td>\n",
       "      <td>Waiting on User</td>\n",
       "      <td>Email</td>\n",
       "      <td>Julia L</td>\n",
       "      <td>Spanish</td>\n",
       "      <td>2022-09-01 00:01:23</td>\n",
       "      <td>September</td>\n",
       "      <td>2022-09-01 16:32:04</td>\n",
       "      <td>00:00:00</td>\n",
       "      <td>1</td>\n",
       "      <td>2</td>\n",
       "      <td>Within SLA</td>\n",
       "      <td>NaN</td>\n",
       "      <td>NaN</td>\n",
       "      <td>NaN</td>\n",
       "      <td>NaN</td>\n",
       "      <td>NaN</td>\n",
       "      <td>Spanish</td>\n",
       "      <td>NaN</td>\n",
       "      <td>NaN</td>\n",
       "      <td>NaN</td>\n",
       "      <td>NaN</td>\n",
       "      <td>Suspected Pregnancy/Pregnancy confirmation</td>\n",
       "      <td>NaN</td>\n",
       "      <td>NaN</td>\n",
       "      <td>NaN</td>\n",
       "      <td>NaN</td>\n",
       "      <td>NaN</td>\n",
       "      <td>NaN</td>\n",
       "      <td>NaN</td>\n",
       "      <td>NaN</td>\n",
       "      <td>NaN</td>\n",
       "      <td>NaN</td>\n",
       "      <td>False</td>\n",
       "      <td>False</td>\n",
       "      <td>False</td>\n",
       "      <td>False</td>\n",
       "      <td>False</td>\n",
       "      <td>No</td>\n",
       "      <td>NaN</td>\n",
       "      <td>Suspected Pregnancy</td>\n",
       "      <td>NaN</td>\n",
       "      <td>NaN</td>\n",
       "      <td>False</td>\n",
       "      <td>False</td>\n",
       "    </tr>\n",
       "    <tr>\n",
       "      <th>1</th>\n",
       "      <td>92855</td>\n",
       "      <td>Evaluation sent</td>\n",
       "      <td>Chat</td>\n",
       "      <td>No Agent</td>\n",
       "      <td>Spanish</td>\n",
       "      <td>2022-09-01 00:05:46</td>\n",
       "      <td>September</td>\n",
       "      <td>2022-09-27 18:12:41</td>\n",
       "      <td>00:00:00</td>\n",
       "      <td>0</td>\n",
       "      <td>1</td>\n",
       "      <td>NaN</td>\n",
       "      <td>Away conversation</td>\n",
       "      <td>NaN</td>\n",
       "      <td>NaN</td>\n",
       "      <td>NaN</td>\n",
       "      <td>NaN</td>\n",
       "      <td>Spanish</td>\n",
       "      <td>NaN</td>\n",
       "      <td>NaN</td>\n",
       "      <td>NaN</td>\n",
       "      <td>NaN</td>\n",
       "      <td>NaN</td>\n",
       "      <td>NaN</td>\n",
       "      <td>NaN</td>\n",
       "      <td>NaN</td>\n",
       "      <td>NaN</td>\n",
       "      <td>NaN</td>\n",
       "      <td>NaN</td>\n",
       "      <td>NaN</td>\n",
       "      <td>NaN</td>\n",
       "      <td>NaN</td>\n",
       "      <td>NaN</td>\n",
       "      <td>False</td>\n",
       "      <td>False</td>\n",
       "      <td>False</td>\n",
       "      <td>False</td>\n",
       "      <td>False</td>\n",
       "      <td>NaN</td>\n",
       "      <td>NaN</td>\n",
       "      <td>NaN</td>\n",
       "      <td>NaN</td>\n",
       "      <td>NaN</td>\n",
       "      <td>False</td>\n",
       "      <td>False</td>\n",
       "    </tr>\n",
       "    <tr>\n",
       "      <th>2</th>\n",
       "      <td>92856</td>\n",
       "      <td>Evaluation sent</td>\n",
       "      <td>Email</td>\n",
       "      <td>No Agent</td>\n",
       "      <td>Spanish</td>\n",
       "      <td>2022-09-01 00:10:48</td>\n",
       "      <td>September</td>\n",
       "      <td>2022-09-27 18:12:41</td>\n",
       "      <td>00:00:00</td>\n",
       "      <td>0</td>\n",
       "      <td>1</td>\n",
       "      <td>NaN</td>\n",
       "      <td>NaN</td>\n",
       "      <td>NaN</td>\n",
       "      <td>NaN</td>\n",
       "      <td>NaN</td>\n",
       "      <td>NaN</td>\n",
       "      <td>Spanish</td>\n",
       "      <td>NaN</td>\n",
       "      <td>NaN</td>\n",
       "      <td>NaN</td>\n",
       "      <td>NaN</td>\n",
       "      <td>NaN</td>\n",
       "      <td>NaN</td>\n",
       "      <td>NaN</td>\n",
       "      <td>NaN</td>\n",
       "      <td>NaN</td>\n",
       "      <td>NaN</td>\n",
       "      <td>NaN</td>\n",
       "      <td>NaN</td>\n",
       "      <td>NaN</td>\n",
       "      <td>NaN</td>\n",
       "      <td>NaN</td>\n",
       "      <td>False</td>\n",
       "      <td>False</td>\n",
       "      <td>False</td>\n",
       "      <td>False</td>\n",
       "      <td>False</td>\n",
       "      <td>NaN</td>\n",
       "      <td>NaN</td>\n",
       "      <td>NaN</td>\n",
       "      <td>NaN</td>\n",
       "      <td>NaN</td>\n",
       "      <td>False</td>\n",
       "      <td>False</td>\n",
       "    </tr>\n",
       "    <tr>\n",
       "      <th>3</th>\n",
       "      <td>101202</td>\n",
       "      <td>Waiting on KQ - reminder</td>\n",
       "      <td>Chat</td>\n",
       "      <td>Lucy P</td>\n",
       "      <td>Spanish</td>\n",
       "      <td>2022-09-23 18:20:24</td>\n",
       "      <td>September</td>\n",
       "      <td>2022-09-30 20:23:28</td>\n",
       "      <td>00:00:00</td>\n",
       "      <td>1</td>\n",
       "      <td>1</td>\n",
       "      <td>Within SLA</td>\n",
       "      <td>NaN</td>\n",
       "      <td>Argentina</td>\n",
       "      <td>NaN</td>\n",
       "      <td>NaN</td>\n",
       "      <td>NaN</td>\n",
       "      <td>Spanish</td>\n",
       "      <td>NaN</td>\n",
       "      <td>NaN</td>\n",
       "      <td>NaN</td>\n",
       "      <td>NaN</td>\n",
       "      <td>Access to abortion services/Help General</td>\n",
       "      <td>NaN</td>\n",
       "      <td>NaN</td>\n",
       "      <td>NaN</td>\n",
       "      <td>NaN</td>\n",
       "      <td>NaN</td>\n",
       "      <td>NaN</td>\n",
       "      <td>NaN</td>\n",
       "      <td>NaN</td>\n",
       "      <td>NaN</td>\n",
       "      <td>NaN</td>\n",
       "      <td>False</td>\n",
       "      <td>False</td>\n",
       "      <td>False</td>\n",
       "      <td>False</td>\n",
       "      <td>False</td>\n",
       "      <td>No</td>\n",
       "      <td>NaN</td>\n",
       "      <td>Dropped</td>\n",
       "      <td>NaN</td>\n",
       "      <td>NaN</td>\n",
       "      <td>False</td>\n",
       "      <td>False</td>\n",
       "    </tr>\n",
       "    <tr>\n",
       "      <th>4</th>\n",
       "      <td>101407</td>\n",
       "      <td>Waiting on KQ</td>\n",
       "      <td>Chat</td>\n",
       "      <td>No Agent</td>\n",
       "      <td>No Group</td>\n",
       "      <td>2022-09-24 12:16:03</td>\n",
       "      <td>September</td>\n",
       "      <td>2022-09-24 12:16:03</td>\n",
       "      <td>00:00:00</td>\n",
       "      <td>0</td>\n",
       "      <td>1</td>\n",
       "      <td>NaN</td>\n",
       "      <td>Away conversation</td>\n",
       "      <td>NaN</td>\n",
       "      <td>NaN</td>\n",
       "      <td>NaN</td>\n",
       "      <td>NaN</td>\n",
       "      <td>NaN</td>\n",
       "      <td>NaN</td>\n",
       "      <td>NaN</td>\n",
       "      <td>NaN</td>\n",
       "      <td>NaN</td>\n",
       "      <td>NaN</td>\n",
       "      <td>NaN</td>\n",
       "      <td>NaN</td>\n",
       "      <td>NaN</td>\n",
       "      <td>NaN</td>\n",
       "      <td>NaN</td>\n",
       "      <td>NaN</td>\n",
       "      <td>NaN</td>\n",
       "      <td>NaN</td>\n",
       "      <td>NaN</td>\n",
       "      <td>NaN</td>\n",
       "      <td>False</td>\n",
       "      <td>False</td>\n",
       "      <td>False</td>\n",
       "      <td>False</td>\n",
       "      <td>False</td>\n",
       "      <td>NaN</td>\n",
       "      <td>NaN</td>\n",
       "      <td>NaN</td>\n",
       "      <td>NaN</td>\n",
       "      <td>NaN</td>\n",
       "      <td>False</td>\n",
       "      <td>False</td>\n",
       "    </tr>\n",
       "  </tbody>\n",
       "</table>\n",
       "</div>"
      ],
      "text/plain": [
       "   Ticket ID                    Status Source     Agent     Group  \\\n",
       "0      92854           Waiting on User  Email   Julia L   Spanish   \n",
       "1      92855           Evaluation sent   Chat  No Agent   Spanish   \n",
       "2      92856           Evaluation sent  Email  No Agent   Spanish   \n",
       "3     101202  Waiting on KQ - reminder   Chat    Lucy P   Spanish   \n",
       "4     101407             Waiting on KQ   Chat  No Agent  No Group   \n",
       "\n",
       "          Created time      Month     Last update time  \\\n",
       "0  2022-09-01 00:01:23  September  2022-09-01 16:32:04   \n",
       "1  2022-09-01 00:05:46  September  2022-09-27 18:12:41   \n",
       "2  2022-09-01 00:10:48  September  2022-09-27 18:12:41   \n",
       "3  2022-09-23 18:20:24  September  2022-09-30 20:23:28   \n",
       "4  2022-09-24 12:16:03  September  2022-09-24 12:16:03   \n",
       "\n",
       "  Resolution time (in hrs)  Agent interactions  Customer interactions  \\\n",
       "0                 00:00:00                   1                      2   \n",
       "1                 00:00:00                   0                      1   \n",
       "2                 00:00:00                   0                      1   \n",
       "3                 00:00:00                   1                      1   \n",
       "4                 00:00:00                   0                      1   \n",
       "\n",
       "  First response status               Tags Countries (NEW)  Region Agent 2  \\\n",
       "0            Within SLA                NaN             NaN     NaN     NaN   \n",
       "1                   NaN  Away conversation             NaN     NaN     NaN   \n",
       "2                   NaN                NaN             NaN     NaN     NaN   \n",
       "3            Within SLA                NaN       Argentina     NaN     NaN   \n",
       "4                   NaN  Away conversation             NaN     NaN     NaN   \n",
       "\n",
       "  Agent 3 Language City  Age Gestational weeks at first contact  + days  \\\n",
       "0     NaN  Spanish  NaN  NaN                                NaN     NaN   \n",
       "1     NaN  Spanish  NaN  NaN                                NaN     NaN   \n",
       "2     NaN  Spanish  NaN  NaN                                NaN     NaN   \n",
       "3     NaN  Spanish  NaN  NaN                                NaN     NaN   \n",
       "4     NaN      NaN  NaN  NaN                                NaN     NaN   \n",
       "\n",
       "                      Main reason for contact Subreason 1 Subreason 2  \\\n",
       "0  Suspected Pregnancy/Pregnancy confirmation         NaN         NaN   \n",
       "1                                         NaN         NaN         NaN   \n",
       "2                                         NaN         NaN         NaN   \n",
       "3    Access to abortion services/Help General         NaN         NaN   \n",
       "4                                         NaN         NaN         NaN   \n",
       "\n",
       "  2nd reason for contact 2nd Subreason 1 3rd reason for contact  \\\n",
       "0                    NaN             NaN                    NaN   \n",
       "1                    NaN             NaN                    NaN   \n",
       "2                    NaN             NaN                    NaN   \n",
       "3                    NaN             NaN                    NaN   \n",
       "4                    NaN             NaN                    NaN   \n",
       "\n",
       "  3rd Subreason 1 In possession of pills Kind of pills Amount of pills  \\\n",
       "0             NaN                    NaN           NaN             NaN   \n",
       "1             NaN                    NaN           NaN             NaN   \n",
       "2             NaN                    NaN           NaN             NaN   \n",
       "3             NaN                    NaN           NaN             NaN   \n",
       "4             NaN                    NaN           NaN             NaN   \n",
       "\n",
       "  Abortion method counselled on     MA  MVA/EVA    D&E  Induction    PAC  \\\n",
       "0                           NaN  False    False  False      False  False   \n",
       "1                           NaN  False    False  False      False  False   \n",
       "2                           NaN  False    False  False      False  False   \n",
       "3                           NaN  False    False  False      False  False   \n",
       "4                           NaN  False    False  False      False  False   \n",
       "\n",
       "  Referral  Ability to pay for referral services/products  \\\n",
       "0        No                                           NaN   \n",
       "1       NaN                                           NaN   \n",
       "2       NaN                                           NaN   \n",
       "3        No                                           NaN   \n",
       "4       NaN                                           NaN   \n",
       "\n",
       "  Reason for not referring Reason for referral ref-Subreason 1  \\\n",
       "0      Suspected Pregnancy                 NaN             NaN   \n",
       "1                      NaN                 NaN             NaN   \n",
       "2                      NaN                 NaN             NaN   \n",
       "3                  Dropped                 NaN             NaN   \n",
       "4                      NaN                 NaN             NaN   \n",
       "\n",
       "   Referred to on-the-ground org  Referred to direct provider  \n",
       "0                          False                        False  \n",
       "1                          False                        False  \n",
       "2                          False                        False  \n",
       "3                          False                        False  \n",
       "4                          False                        False  "
      ]
     },
     "execution_count": 9,
     "metadata": {},
     "output_type": "execute_result"
    }
   ],
   "source": [
    "# loading first file\n",
    "\n",
    "df1 = pd.read_excel(\"Counselling_referral data_Sep - Dec 2022 - safe2choose.xlsx\")\n",
    "pd.set_option('display.max_columns', None)\n",
    "df1.head()"
   ]
  },
  {
   "cell_type": "code",
   "execution_count": 10,
   "id": "e99bf2c7",
   "metadata": {},
   "outputs": [
    {
     "name": "stdout",
     "output_type": "stream",
     "text": [
      "<class 'pandas.core.frame.DataFrame'>\n",
      "RangeIndex: 2336 entries, 0 to 2335\n",
      "Data columns (total 45 columns):\n",
      " #   Column                                         Non-Null Count  Dtype  \n",
      "---  ------                                         --------------  -----  \n",
      " 0   Ticket ID                                      2336 non-null   int64  \n",
      " 1   Status                                         2336 non-null   object \n",
      " 2   Source                                         2336 non-null   object \n",
      " 3   Agent                                          2336 non-null   object \n",
      " 4   Group                                          2336 non-null   object \n",
      " 5   Created time                                   2336 non-null   object \n",
      " 6   Month                                          2336 non-null   object \n",
      " 7   Last update time                               2336 non-null   object \n",
      " 8   Resolution time (in hrs)                       2336 non-null   object \n",
      " 9   Agent interactions                             2336 non-null   int64  \n",
      " 10  Customer interactions                          2336 non-null   int64  \n",
      " 11  First response status                          587 non-null    object \n",
      " 12  Tags                                           1291 non-null   object \n",
      " 13  Countries (NEW)                                573 non-null    object \n",
      " 14  Region                                         0 non-null      float64\n",
      " 15  Agent 2                                        88 non-null     object \n",
      " 16  Agent 3                                        11 non-null     object \n",
      " 17  Language                                       1758 non-null   object \n",
      " 18  City                                           364 non-null    object \n",
      " 19  Age                                            34 non-null     float64\n",
      " 20  Gestational weeks at first contact             384 non-null    object \n",
      " 21  + days                                         287 non-null    float64\n",
      " 22  Main reason for contact                        693 non-null    object \n",
      " 23  Subreason 1                                    245 non-null    object \n",
      " 24  Subreason 2                                    78 non-null     object \n",
      " 25  2nd reason for contact                         239 non-null    object \n",
      " 26  2nd Subreason 1                                196 non-null    object \n",
      " 27  3rd reason for contact                         38 non-null     object \n",
      " 28  3rd Subreason 1                                29 non-null     object \n",
      " 29  In possession of pills                         367 non-null    object \n",
      " 30  Kind of pills                                  90 non-null     object \n",
      " 31  Amount of pills                                63 non-null     object \n",
      " 32  Abortion method counselled on                  412 non-null    object \n",
      " 33  MA                                             2336 non-null   bool   \n",
      " 34  MVA/EVA                                        2336 non-null   bool   \n",
      " 35  D&E                                            2336 non-null   bool   \n",
      " 36  Induction                                      2336 non-null   bool   \n",
      " 37  PAC                                            2336 non-null   bool   \n",
      " 38  Referral                                       688 non-null    object \n",
      " 39  Ability to pay for referral services/products  3 non-null      object \n",
      " 40  Reason for not referring                       320 non-null    object \n",
      " 41  Reason for referral                            397 non-null    object \n",
      " 42  ref-Subreason 1                                2 non-null      object \n",
      " 43  Referred to on-the-ground org                  2336 non-null   bool   \n",
      " 44  Referred to direct provider                    2336 non-null   bool   \n",
      "dtypes: bool(7), float64(3), int64(3), object(32)\n",
      "memory usage: 709.6+ KB\n"
     ]
    }
   ],
   "source": [
    "df1.info()"
   ]
  },
  {
   "cell_type": "code",
   "execution_count": 11,
   "id": "79de30b5",
   "metadata": {},
   "outputs": [
    {
     "data": {
      "text/plain": [
       "Index(['Ticket ID', 'Status', 'Source', 'Agent', 'Group', 'Created time',\n",
       "       'Month', 'Last update time', 'Resolution time (in hrs)',\n",
       "       'Agent interactions', 'Customer interactions', 'First response status',\n",
       "       'Tags', 'Countries (NEW)', 'Region', 'Agent 2', 'Agent 3', 'Language',\n",
       "       'City', 'Age', 'Gestational weeks at first contact', '+ days',\n",
       "       'Main reason for contact', 'Subreason 1', 'Subreason 2',\n",
       "       '2nd reason for contact', '2nd Subreason 1', '3rd reason for contact',\n",
       "       '3rd Subreason 1', 'In possession of pills', 'Kind of pills',\n",
       "       'Amount of pills', 'Abortion method counselled on', 'MA', 'MVA/EVA',\n",
       "       'D&E', 'Induction', 'PAC', 'Referral ',\n",
       "       'Ability to pay for referral services/products',\n",
       "       'Reason for not referring', 'Reason for referral', 'ref-Subreason 1',\n",
       "       'Referred to on-the-ground org', 'Referred to direct provider'],\n",
       "      dtype='object')"
      ]
     },
     "execution_count": 11,
     "metadata": {},
     "output_type": "execute_result"
    }
   ],
   "source": [
    "df1.columns"
   ]
  },
  {
   "cell_type": "code",
   "execution_count": 12,
   "id": "549955c6",
   "metadata": {},
   "outputs": [
    {
     "data": {
      "text/plain": [
       "Waiting on KQ                   655\n",
       "Resolved                        397\n",
       "Waiting on User                 308\n",
       "Waiting on KQ - reminder        298\n",
       "Closed                          228\n",
       "Referral                        227\n",
       "Evaluation sent                 154\n",
       "Referral - reminder              35\n",
       "Need to fill properties chat     22\n",
       "Open                             12\n",
       "Name: Status, dtype: int64"
      ]
     },
     "execution_count": 12,
     "metadata": {},
     "output_type": "execute_result"
    }
   ],
   "source": [
    "# exploring information from different columns\n",
    "\n",
    "df1.Status.value_counts()"
   ]
  },
  {
   "cell_type": "code",
   "execution_count": 13,
   "id": "83f40252",
   "metadata": {},
   "outputs": [
    {
     "data": {
      "text/plain": [
       "Which methods    412\n",
       "Name: Abortion method counselled on, dtype: int64"
      ]
     },
     "execution_count": 13,
     "metadata": {},
     "output_type": "execute_result"
    }
   ],
   "source": [
    "df1[\"Abortion method counselled on\"].value_counts()"
   ]
  },
  {
   "cell_type": "code",
   "execution_count": 14,
   "id": "8385c7cd",
   "metadata": {},
   "outputs": [
    {
     "data": {
      "text/html": [
       "<div>\n",
       "<style scoped>\n",
       "    .dataframe tbody tr th:only-of-type {\n",
       "        vertical-align: middle;\n",
       "    }\n",
       "\n",
       "    .dataframe tbody tr th {\n",
       "        vertical-align: top;\n",
       "    }\n",
       "\n",
       "    .dataframe thead th {\n",
       "        text-align: right;\n",
       "    }\n",
       "</style>\n",
       "<table border=\"1\" class=\"dataframe\">\n",
       "  <thead>\n",
       "    <tr style=\"text-align: right;\">\n",
       "      <th></th>\n",
       "      <th>Default Channel Grouping</th>\n",
       "      <th>Users</th>\n",
       "      <th>New Users</th>\n",
       "      <th>Sessions</th>\n",
       "      <th>Bounce Rate</th>\n",
       "      <th>Pages/Session</th>\n",
       "      <th>Avg. Session Duration</th>\n",
       "    </tr>\n",
       "  </thead>\n",
       "  <tbody>\n",
       "    <tr>\n",
       "      <th>0</th>\n",
       "      <td>Organic Search</td>\n",
       "      <td>908831</td>\n",
       "      <td>835236</td>\n",
       "      <td>1168784</td>\n",
       "      <td>0.138337</td>\n",
       "      <td>2.787992</td>\n",
       "      <td>95.430919</td>\n",
       "    </tr>\n",
       "    <tr>\n",
       "      <th>1</th>\n",
       "      <td>Paid Search</td>\n",
       "      <td>208793</td>\n",
       "      <td>195714</td>\n",
       "      <td>306754</td>\n",
       "      <td>0.774842</td>\n",
       "      <td>1.362307</td>\n",
       "      <td>23.712111</td>\n",
       "    </tr>\n",
       "    <tr>\n",
       "      <th>2</th>\n",
       "      <td>Direct</td>\n",
       "      <td>196238</td>\n",
       "      <td>194134</td>\n",
       "      <td>230303</td>\n",
       "      <td>0.169594</td>\n",
       "      <td>2.999462</td>\n",
       "      <td>101.461001</td>\n",
       "    </tr>\n",
       "    <tr>\n",
       "      <th>3</th>\n",
       "      <td>Referral</td>\n",
       "      <td>12982</td>\n",
       "      <td>11125</td>\n",
       "      <td>16405</td>\n",
       "      <td>0.128436</td>\n",
       "      <td>4.324169</td>\n",
       "      <td>164.829930</td>\n",
       "    </tr>\n",
       "    <tr>\n",
       "      <th>4</th>\n",
       "      <td>Social</td>\n",
       "      <td>7645</td>\n",
       "      <td>6875</td>\n",
       "      <td>8915</td>\n",
       "      <td>0.131015</td>\n",
       "      <td>5.106786</td>\n",
       "      <td>151.808301</td>\n",
       "    </tr>\n",
       "  </tbody>\n",
       "</table>\n",
       "</div>"
      ],
      "text/plain": [
       "  Default Channel Grouping   Users  New Users  Sessions  Bounce Rate  \\\n",
       "0           Organic Search  908831     835236   1168784     0.138337   \n",
       "1              Paid Search  208793     195714    306754     0.774842   \n",
       "2                   Direct  196238     194134    230303     0.169594   \n",
       "3                 Referral   12982      11125     16405     0.128436   \n",
       "4                   Social    7645       6875      8915     0.131015   \n",
       "\n",
       "   Pages/Session  Avg. Session Duration  \n",
       "0       2.787992              95.430919  \n",
       "1       1.362307              23.712111  \n",
       "2       2.999462             101.461001  \n",
       "3       4.324169             164.829930  \n",
       "4       5.106786             151.808301  "
      ]
     },
     "execution_count": 14,
     "metadata": {},
     "output_type": "execute_result"
    }
   ],
   "source": [
    "# loading second file\n",
    "\n",
    "df2 = pd.read_excel(\"Google Anlaytics data_Sep-Dec 22-safe2choose.xlsx\")\n",
    "df2.head()"
   ]
  },
  {
   "cell_type": "code",
   "execution_count": 15,
   "id": "538f2194",
   "metadata": {},
   "outputs": [
    {
     "name": "stdout",
     "output_type": "stream",
     "text": [
      "<class 'pandas.core.frame.DataFrame'>\n",
      "RangeIndex: 7 entries, 0 to 6\n",
      "Data columns (total 7 columns):\n",
      " #   Column                    Non-Null Count  Dtype  \n",
      "---  ------                    --------------  -----  \n",
      " 0   Default Channel Grouping  7 non-null      object \n",
      " 1   Users                     7 non-null      int64  \n",
      " 2   New Users                 7 non-null      int64  \n",
      " 3   Sessions                  7 non-null      int64  \n",
      " 4   Bounce Rate               7 non-null      float64\n",
      " 5   Pages/Session             7 non-null      float64\n",
      " 6   Avg. Session Duration     7 non-null      float64\n",
      "dtypes: float64(3), int64(3), object(1)\n",
      "memory usage: 520.0+ bytes\n"
     ]
    }
   ],
   "source": [
    "df2.info()"
   ]
  },
  {
   "cell_type": "code",
   "execution_count": 16,
   "id": "edbd8318",
   "metadata": {},
   "outputs": [
    {
     "data": {
      "text/html": [
       "<div>\n",
       "<style scoped>\n",
       "    .dataframe tbody tr th:only-of-type {\n",
       "        vertical-align: middle;\n",
       "    }\n",
       "\n",
       "    .dataframe tbody tr th {\n",
       "        vertical-align: top;\n",
       "    }\n",
       "\n",
       "    .dataframe thead th {\n",
       "        text-align: right;\n",
       "    }\n",
       "</style>\n",
       "<table border=\"1\" class=\"dataframe\">\n",
       "  <thead>\n",
       "    <tr style=\"text-align: right;\">\n",
       "      <th></th>\n",
       "      <th>Age</th>\n",
       "      <th>Users</th>\n",
       "    </tr>\n",
       "  </thead>\n",
       "  <tbody>\n",
       "    <tr>\n",
       "      <th>0</th>\n",
       "      <td>18-24</td>\n",
       "      <td>148670</td>\n",
       "    </tr>\n",
       "    <tr>\n",
       "      <th>1</th>\n",
       "      <td>25-34</td>\n",
       "      <td>133562</td>\n",
       "    </tr>\n",
       "    <tr>\n",
       "      <th>2</th>\n",
       "      <td>35-44</td>\n",
       "      <td>67560</td>\n",
       "    </tr>\n",
       "    <tr>\n",
       "      <th>3</th>\n",
       "      <td>45-54</td>\n",
       "      <td>41398</td>\n",
       "    </tr>\n",
       "    <tr>\n",
       "      <th>4</th>\n",
       "      <td>55-64</td>\n",
       "      <td>25973</td>\n",
       "    </tr>\n",
       "  </tbody>\n",
       "</table>\n",
       "</div>"
      ],
      "text/plain": [
       "     Age   Users\n",
       "0  18-24  148670\n",
       "1  25-34  133562\n",
       "2  35-44   67560\n",
       "3  45-54   41398\n",
       "4  55-64   25973"
      ]
     },
     "execution_count": 16,
     "metadata": {},
     "output_type": "execute_result"
    }
   ],
   "source": [
    "df_age = pd.read_excel(\"Google Anlaytics data_Sep-Dec 22-safe2choose.xlsx\", sheet_name=1)\n",
    "df_age.head()"
   ]
  },
  {
   "cell_type": "code",
   "execution_count": 17,
   "id": "0ca867ad",
   "metadata": {},
   "outputs": [
    {
     "data": {
      "text/html": [
       "<div>\n",
       "<style scoped>\n",
       "    .dataframe tbody tr th:only-of-type {\n",
       "        vertical-align: middle;\n",
       "    }\n",
       "\n",
       "    .dataframe tbody tr th {\n",
       "        vertical-align: top;\n",
       "    }\n",
       "\n",
       "    .dataframe thead th {\n",
       "        text-align: right;\n",
       "    }\n",
       "</style>\n",
       "<table border=\"1\" class=\"dataframe\">\n",
       "  <thead>\n",
       "    <tr style=\"text-align: right;\">\n",
       "      <th></th>\n",
       "      <th>Gender</th>\n",
       "      <th>Users</th>\n",
       "    </tr>\n",
       "  </thead>\n",
       "  <tbody>\n",
       "    <tr>\n",
       "      <th>0</th>\n",
       "      <td>female</td>\n",
       "      <td>271582</td>\n",
       "    </tr>\n",
       "    <tr>\n",
       "      <th>1</th>\n",
       "      <td>male</td>\n",
       "      <td>237350</td>\n",
       "    </tr>\n",
       "  </tbody>\n",
       "</table>\n",
       "</div>"
      ],
      "text/plain": [
       "   Gender   Users\n",
       "0  female  271582\n",
       "1    male  237350"
      ]
     },
     "execution_count": 17,
     "metadata": {},
     "output_type": "execute_result"
    }
   ],
   "source": [
    "df_gender = pd.read_excel(\"Google Anlaytics data_Sep-Dec 22-safe2choose.xlsx\", sheet_name=2)\n",
    "df_gender.head()"
   ]
  },
  {
   "cell_type": "code",
   "execution_count": 18,
   "id": "25eab02a",
   "metadata": {},
   "outputs": [
    {
     "data": {
      "text/html": [
       "<div>\n",
       "<style scoped>\n",
       "    .dataframe tbody tr th:only-of-type {\n",
       "        vertical-align: middle;\n",
       "    }\n",
       "\n",
       "    .dataframe tbody tr th {\n",
       "        vertical-align: top;\n",
       "    }\n",
       "\n",
       "    .dataframe thead th {\n",
       "        text-align: right;\n",
       "    }\n",
       "</style>\n",
       "<table border=\"1\" class=\"dataframe\">\n",
       "  <thead>\n",
       "    <tr style=\"text-align: right;\">\n",
       "      <th></th>\n",
       "      <th>Page</th>\n",
       "      <th>Page Views</th>\n",
       "      <th>Unique Page Views</th>\n",
       "      <th>Avg. Time on Page</th>\n",
       "      <th>Entrances</th>\n",
       "      <th>Bounce Rate</th>\n",
       "      <th>% Exit</th>\n",
       "    </tr>\n",
       "  </thead>\n",
       "  <tbody>\n",
       "    <tr>\n",
       "      <th>0</th>\n",
       "      <td>/es/safe-abortion/abortion-pills/abortion-with...</td>\n",
       "      <td>213211</td>\n",
       "      <td>104666</td>\n",
       "      <td>68.005218</td>\n",
       "      <td>93371</td>\n",
       "      <td>0.134155</td>\n",
       "      <td>0.439110</td>\n",
       "    </tr>\n",
       "    <tr>\n",
       "      <th>1</th>\n",
       "      <td>/</td>\n",
       "      <td>206788</td>\n",
       "      <td>112562</td>\n",
       "      <td>40.616076</td>\n",
       "      <td>85384</td>\n",
       "      <td>0.218065</td>\n",
       "      <td>0.284741</td>\n",
       "    </tr>\n",
       "    <tr>\n",
       "      <th>2</th>\n",
       "      <td>/hi/safe-abortion/abortion-pills/types-abortio...</td>\n",
       "      <td>194308</td>\n",
       "      <td>92092</td>\n",
       "      <td>55.053400</td>\n",
       "      <td>86218</td>\n",
       "      <td>0.107318</td>\n",
       "      <td>0.442658</td>\n",
       "    </tr>\n",
       "    <tr>\n",
       "      <th>3</th>\n",
       "      <td>/abortion-pill-information</td>\n",
       "      <td>158841</td>\n",
       "      <td>134952</td>\n",
       "      <td>66.963177</td>\n",
       "      <td>132388</td>\n",
       "      <td>0.810458</td>\n",
       "      <td>0.821167</td>\n",
       "    </tr>\n",
       "    <tr>\n",
       "      <th>4</th>\n",
       "      <td>/safe-abortion/abortion-pills/using-mifepristo...</td>\n",
       "      <td>141541</td>\n",
       "      <td>70847</td>\n",
       "      <td>78.848416</td>\n",
       "      <td>59482</td>\n",
       "      <td>0.133565</td>\n",
       "      <td>0.424153</td>\n",
       "    </tr>\n",
       "  </tbody>\n",
       "</table>\n",
       "</div>"
      ],
      "text/plain": [
       "                                                Page  Page Views  \\\n",
       "0  /es/safe-abortion/abortion-pills/abortion-with...      213211   \n",
       "1                                                  /      206788   \n",
       "2  /hi/safe-abortion/abortion-pills/types-abortio...      194308   \n",
       "3                         /abortion-pill-information      158841   \n",
       "4  /safe-abortion/abortion-pills/using-mifepristo...      141541   \n",
       "\n",
       "   Unique Page Views  Avg. Time on Page  Entrances  Bounce Rate    % Exit  \n",
       "0             104666          68.005218      93371     0.134155  0.439110  \n",
       "1             112562          40.616076      85384     0.218065  0.284741  \n",
       "2              92092          55.053400      86218     0.107318  0.442658  \n",
       "3             134952          66.963177     132388     0.810458  0.821167  \n",
       "4              70847          78.848416      59482     0.133565  0.424153  "
      ]
     },
     "execution_count": 18,
     "metadata": {},
     "output_type": "execute_result"
    }
   ],
   "source": [
    "df_visits = pd.read_excel(\"Google Anlaytics data_Sep-Dec 22-safe2choose.xlsx\", sheet_name=3)\n",
    "df_visits.head()"
   ]
  },
  {
   "cell_type": "code",
   "execution_count": 19,
   "id": "c91bcd85",
   "metadata": {},
   "outputs": [
    {
     "data": {
      "text/html": [
       "<div>\n",
       "<style scoped>\n",
       "    .dataframe tbody tr th:only-of-type {\n",
       "        vertical-align: middle;\n",
       "    }\n",
       "\n",
       "    .dataframe tbody tr th {\n",
       "        vertical-align: top;\n",
       "    }\n",
       "\n",
       "    .dataframe thead th {\n",
       "        text-align: right;\n",
       "    }\n",
       "</style>\n",
       "<table border=\"1\" class=\"dataframe\">\n",
       "  <thead>\n",
       "    <tr style=\"text-align: right;\">\n",
       "      <th></th>\n",
       "      <th>Country</th>\n",
       "      <th>Users</th>\n",
       "      <th>New Users</th>\n",
       "      <th>Sessions</th>\n",
       "      <th>Bounce Rate</th>\n",
       "      <th>Pages/Session</th>\n",
       "      <th>Avg. Session Duration</th>\n",
       "    </tr>\n",
       "  </thead>\n",
       "  <tbody>\n",
       "    <tr>\n",
       "      <th>0</th>\n",
       "      <td>India</td>\n",
       "      <td>172126</td>\n",
       "      <td>173438</td>\n",
       "      <td>213566</td>\n",
       "      <td>0.119153</td>\n",
       "      <td>2.472627</td>\n",
       "      <td>73.011327</td>\n",
       "    </tr>\n",
       "    <tr>\n",
       "      <th>1</th>\n",
       "      <td>Brazil</td>\n",
       "      <td>106594</td>\n",
       "      <td>105322</td>\n",
       "      <td>142237</td>\n",
       "      <td>0.120834</td>\n",
       "      <td>3.263483</td>\n",
       "      <td>114.385638</td>\n",
       "    </tr>\n",
       "    <tr>\n",
       "      <th>2</th>\n",
       "      <td>Philippines</td>\n",
       "      <td>99889</td>\n",
       "      <td>97929</td>\n",
       "      <td>128124</td>\n",
       "      <td>0.136766</td>\n",
       "      <td>2.729372</td>\n",
       "      <td>114.057764</td>\n",
       "    </tr>\n",
       "    <tr>\n",
       "      <th>3</th>\n",
       "      <td>Mexico</td>\n",
       "      <td>90855</td>\n",
       "      <td>89773</td>\n",
       "      <td>124194</td>\n",
       "      <td>0.257484</td>\n",
       "      <td>2.698222</td>\n",
       "      <td>76.659275</td>\n",
       "    </tr>\n",
       "    <tr>\n",
       "      <th>4</th>\n",
       "      <td>Liberia</td>\n",
       "      <td>60141</td>\n",
       "      <td>59960</td>\n",
       "      <td>60819</td>\n",
       "      <td>0.277791</td>\n",
       "      <td>2.437741</td>\n",
       "      <td>44.913547</td>\n",
       "    </tr>\n",
       "  </tbody>\n",
       "</table>\n",
       "</div>"
      ],
      "text/plain": [
       "       Country   Users  New Users  Sessions  Bounce Rate  Pages/Session  \\\n",
       "0        India  172126     173438    213566     0.119153       2.472627   \n",
       "1       Brazil  106594     105322    142237     0.120834       3.263483   \n",
       "2  Philippines   99889      97929    128124     0.136766       2.729372   \n",
       "3       Mexico   90855      89773    124194     0.257484       2.698222   \n",
       "4      Liberia   60141      59960     60819     0.277791       2.437741   \n",
       "\n",
       "   Avg. Session Duration  \n",
       "0              73.011327  \n",
       "1             114.385638  \n",
       "2             114.057764  \n",
       "3              76.659275  \n",
       "4              44.913547  "
      ]
     },
     "execution_count": 19,
     "metadata": {},
     "output_type": "execute_result"
    }
   ],
   "source": [
    "df_geo = pd.read_excel(\"Google Anlaytics data_Sep-Dec 22-safe2choose.xlsx\", sheet_name=4)\n",
    "df_geo.head()"
   ]
  },
  {
   "cell_type": "code",
   "execution_count": 20,
   "id": "0c0ca705",
   "metadata": {},
   "outputs": [
    {
     "data": {
      "text/html": [
       "<div>\n",
       "<style scoped>\n",
       "    .dataframe tbody tr th:only-of-type {\n",
       "        vertical-align: middle;\n",
       "    }\n",
       "\n",
       "    .dataframe tbody tr th {\n",
       "        vertical-align: top;\n",
       "    }\n",
       "\n",
       "    .dataframe thead th {\n",
       "        text-align: right;\n",
       "    }\n",
       "</style>\n",
       "<table border=\"1\" class=\"dataframe\">\n",
       "  <thead>\n",
       "    <tr style=\"text-align: right;\">\n",
       "      <th></th>\n",
       "      <th>Day Index</th>\n",
       "      <th>Users</th>\n",
       "    </tr>\n",
       "  </thead>\n",
       "  <tbody>\n",
       "    <tr>\n",
       "      <th>0</th>\n",
       "      <td>2022-09-01</td>\n",
       "      <td>8232</td>\n",
       "    </tr>\n",
       "    <tr>\n",
       "      <th>1</th>\n",
       "      <td>2022-09-02</td>\n",
       "      <td>8179</td>\n",
       "    </tr>\n",
       "    <tr>\n",
       "      <th>2</th>\n",
       "      <td>2022-09-03</td>\n",
       "      <td>7755</td>\n",
       "    </tr>\n",
       "    <tr>\n",
       "      <th>3</th>\n",
       "      <td>2022-09-04</td>\n",
       "      <td>7231</td>\n",
       "    </tr>\n",
       "    <tr>\n",
       "      <th>4</th>\n",
       "      <td>2022-09-05</td>\n",
       "      <td>8112</td>\n",
       "    </tr>\n",
       "  </tbody>\n",
       "</table>\n",
       "</div>"
      ],
      "text/plain": [
       "   Day Index  Users\n",
       "0 2022-09-01   8232\n",
       "1 2022-09-02   8179\n",
       "2 2022-09-03   7755\n",
       "3 2022-09-04   7231\n",
       "4 2022-09-05   8112"
      ]
     },
     "execution_count": 20,
     "metadata": {},
     "output_type": "execute_result"
    }
   ],
   "source": [
    "df_users = pd.read_excel(\"Google Anlaytics data_Sep-Dec 22-safe2choose.xlsx\", sheet_name=5)\n",
    "df_users.head()"
   ]
  },
  {
   "cell_type": "markdown",
   "id": "b768ae80",
   "metadata": {},
   "source": [
    "#### Data Cleaning"
   ]
  },
  {
   "cell_type": "code",
   "execution_count": 21,
   "id": "5c3b624c",
   "metadata": {},
   "outputs": [
    {
     "data": {
      "text/plain": [
       "(2336, 45)"
      ]
     },
     "execution_count": 21,
     "metadata": {},
     "output_type": "execute_result"
    }
   ],
   "source": [
    "df1.shape"
   ]
  },
  {
   "cell_type": "code",
   "execution_count": 22,
   "id": "daf267fa",
   "metadata": {},
   "outputs": [
    {
     "data": {
      "text/plain": [
       "Ticket ID                                          int64\n",
       "Status                                            object\n",
       "Source                                            object\n",
       "Agent                                             object\n",
       "Group                                             object\n",
       "Created time                                      object\n",
       "Month                                             object\n",
       "Last update time                                  object\n",
       "Resolution time (in hrs)                          object\n",
       "Agent interactions                                 int64\n",
       "Customer interactions                              int64\n",
       "First response status                             object\n",
       "Tags                                              object\n",
       "Countries (NEW)                                   object\n",
       "Region                                           float64\n",
       "Agent 2                                           object\n",
       "Agent 3                                           object\n",
       "Language                                          object\n",
       "City                                              object\n",
       "Age                                              float64\n",
       "Gestational weeks at first contact                object\n",
       "+ days                                           float64\n",
       "Main reason for contact                           object\n",
       "Subreason 1                                       object\n",
       "Subreason 2                                       object\n",
       "2nd reason for contact                            object\n",
       "2nd Subreason 1                                   object\n",
       "3rd reason for contact                            object\n",
       "3rd Subreason 1                                   object\n",
       "In possession of pills                            object\n",
       "Kind of pills                                     object\n",
       "Amount of pills                                   object\n",
       "Abortion method counselled on                     object\n",
       "MA                                                  bool\n",
       "MVA/EVA                                             bool\n",
       "D&E                                                 bool\n",
       "Induction                                           bool\n",
       "PAC                                                 bool\n",
       "Referral                                          object\n",
       "Ability to pay for referral services/products     object\n",
       "Reason for not referring                          object\n",
       "Reason for referral                               object\n",
       "ref-Subreason 1                                   object\n",
       "Referred to on-the-ground org                       bool\n",
       "Referred to direct provider                         bool\n",
       "dtype: object"
      ]
     },
     "execution_count": 22,
     "metadata": {},
     "output_type": "execute_result"
    }
   ],
   "source": [
    "df1.dtypes"
   ]
  },
  {
   "cell_type": "code",
   "execution_count": 23,
   "id": "58837c12",
   "metadata": {},
   "outputs": [
    {
     "name": "stdout",
     "output_type": "stream",
     "text": [
      "<class 'pandas.core.frame.DataFrame'>\n",
      "RangeIndex: 2336 entries, 0 to 2335\n",
      "Data columns (total 45 columns):\n",
      " #   Column                                         Non-Null Count  Dtype  \n",
      "---  ------                                         --------------  -----  \n",
      " 0   Ticket ID                                      2336 non-null   int64  \n",
      " 1   Status                                         2336 non-null   object \n",
      " 2   Source                                         2336 non-null   object \n",
      " 3   Agent                                          2336 non-null   object \n",
      " 4   Group                                          2336 non-null   object \n",
      " 5   Created time                                   2336 non-null   object \n",
      " 6   Month                                          2336 non-null   object \n",
      " 7   Last update time                               2336 non-null   object \n",
      " 8   Resolution time (in hrs)                       2336 non-null   object \n",
      " 9   Agent interactions                             2336 non-null   int64  \n",
      " 10  Customer interactions                          2336 non-null   int64  \n",
      " 11  First response status                          587 non-null    object \n",
      " 12  Tags                                           1291 non-null   object \n",
      " 13  Countries (NEW)                                573 non-null    object \n",
      " 14  Region                                         0 non-null      float64\n",
      " 15  Agent 2                                        88 non-null     object \n",
      " 16  Agent 3                                        11 non-null     object \n",
      " 17  Language                                       1758 non-null   object \n",
      " 18  City                                           364 non-null    object \n",
      " 19  Age                                            34 non-null     float64\n",
      " 20  Gestational weeks at first contact             384 non-null    object \n",
      " 21  + days                                         287 non-null    float64\n",
      " 22  Main reason for contact                        693 non-null    object \n",
      " 23  Subreason 1                                    245 non-null    object \n",
      " 24  Subreason 2                                    78 non-null     object \n",
      " 25  2nd reason for contact                         239 non-null    object \n",
      " 26  2nd Subreason 1                                196 non-null    object \n",
      " 27  3rd reason for contact                         38 non-null     object \n",
      " 28  3rd Subreason 1                                29 non-null     object \n",
      " 29  In possession of pills                         367 non-null    object \n",
      " 30  Kind of pills                                  90 non-null     object \n",
      " 31  Amount of pills                                63 non-null     object \n",
      " 32  Abortion method counselled on                  412 non-null    object \n",
      " 33  MA                                             2336 non-null   bool   \n",
      " 34  MVA/EVA                                        2336 non-null   bool   \n",
      " 35  D&E                                            2336 non-null   bool   \n",
      " 36  Induction                                      2336 non-null   bool   \n",
      " 37  PAC                                            2336 non-null   bool   \n",
      " 38  Referral                                       688 non-null    object \n",
      " 39  Ability to pay for referral services/products  3 non-null      object \n",
      " 40  Reason for not referring                       320 non-null    object \n",
      " 41  Reason for referral                            397 non-null    object \n",
      " 42  ref-Subreason 1                                2 non-null      object \n",
      " 43  Referred to on-the-ground org                  2336 non-null   bool   \n",
      " 44  Referred to direct provider                    2336 non-null   bool   \n",
      "dtypes: bool(7), float64(3), int64(3), object(32)\n",
      "memory usage: 709.6+ KB\n"
     ]
    }
   ],
   "source": [
    "df1.info()"
   ]
  },
  {
   "cell_type": "code",
   "execution_count": 24,
   "id": "91b532e5",
   "metadata": {},
   "outputs": [
    {
     "data": {
      "text/plain": [
       "Ticket ID                                          0.000000\n",
       "Status                                             0.000000\n",
       "Source                                             0.000000\n",
       "Agent                                              0.000000\n",
       "Group                                              0.000000\n",
       "Created time                                       0.000000\n",
       "Month                                              0.000000\n",
       "Last update time                                   0.000000\n",
       "Resolution time (in hrs)                           0.000000\n",
       "Agent interactions                                 0.000000\n",
       "Customer interactions                              0.000000\n",
       "First response status                             74.871575\n",
       "Tags                                              44.734589\n",
       "Countries (NEW)                                   75.470890\n",
       "Region                                           100.000000\n",
       "Agent 2                                           96.232877\n",
       "Agent 3                                           99.529110\n",
       "Language                                          24.743151\n",
       "City                                              84.417808\n",
       "Age                                               98.544521\n",
       "Gestational weeks at first contact                83.561644\n",
       "+ days                                            87.714041\n",
       "Main reason for contact                           70.333904\n",
       "Subreason 1                                       89.511986\n",
       "Subreason 2                                       96.660959\n",
       "2nd reason for contact                            89.768836\n",
       "2nd Subreason 1                                   91.609589\n",
       "3rd reason for contact                            98.373288\n",
       "3rd Subreason 1                                   98.758562\n",
       "In possession of pills                            84.289384\n",
       "Kind of pills                                     96.147260\n",
       "Amount of pills                                   97.303082\n",
       "Abortion method counselled on                     82.363014\n",
       "MA                                                 0.000000\n",
       "MVA/EVA                                            0.000000\n",
       "D&E                                                0.000000\n",
       "Induction                                          0.000000\n",
       "PAC                                                0.000000\n",
       "Referral                                          70.547945\n",
       "Ability to pay for referral services/products     99.871575\n",
       "Reason for not referring                          86.301370\n",
       "Reason for referral                               83.005137\n",
       "ref-Subreason 1                                   99.914384\n",
       "Referred to on-the-ground org                      0.000000\n",
       "Referred to direct provider                        0.000000\n",
       "dtype: float64"
      ]
     },
     "execution_count": 24,
     "metadata": {},
     "output_type": "execute_result"
    }
   ],
   "source": [
    "# checking for missing values in dataframe\n",
    "\n",
    "(df1.isna().sum()/len(df1))*100"
   ]
  },
  {
   "cell_type": "markdown",
   "id": "23d8314e",
   "metadata": {},
   "source": [
    "There are a lot of missing values in over 25 columns in the dataset which needs to be addressed."
   ]
  },
  {
   "cell_type": "code",
   "execution_count": 25,
   "id": "014c9964",
   "metadata": {},
   "outputs": [
    {
     "data": {
      "text/plain": [
       "Index(['Ticket ID', 'Status', 'Source', 'Agent', 'Group', 'Created time',\n",
       "       'Month', 'Last update time', 'Resolution time (in hrs)',\n",
       "       'Agent interactions', 'Customer interactions', 'First response status',\n",
       "       'Tags', 'Countries (NEW)', 'Region', 'Agent 2', 'Agent 3', 'Language',\n",
       "       'City', 'Age', 'Gestational weeks at first contact', '+ days',\n",
       "       'Main reason for contact', 'Subreason 1', 'Subreason 2',\n",
       "       '2nd reason for contact', '2nd Subreason 1', '3rd reason for contact',\n",
       "       '3rd Subreason 1', 'In possession of pills', 'Kind of pills',\n",
       "       'Amount of pills', 'Abortion method counselled on', 'MA', 'MVA/EVA',\n",
       "       'D&E', 'Induction', 'PAC', 'Referral ',\n",
       "       'Ability to pay for referral services/products',\n",
       "       'Reason for not referring', 'Reason for referral', 'ref-Subreason 1',\n",
       "       'Referred to on-the-ground org', 'Referred to direct provider'],\n",
       "      dtype='object')"
      ]
     },
     "execution_count": 25,
     "metadata": {},
     "output_type": "execute_result"
    }
   ],
   "source": [
    "df1.columns"
   ]
  },
  {
   "cell_type": "code",
   "execution_count": 26,
   "id": "3621dfac",
   "metadata": {},
   "outputs": [
    {
     "data": {
      "text/plain": [
       "array(['Within SLA', nan, 'SLA Violated'], dtype=object)"
      ]
     },
     "execution_count": 26,
     "metadata": {},
     "output_type": "execute_result"
    }
   ],
   "source": [
    "df1[\"First response status\"].unique()"
   ]
  },
  {
   "cell_type": "markdown",
   "id": "3b9539ae",
   "metadata": {},
   "source": [
    "We will have to explore each column to determine how to deal with each column.Columns such as Countries (NEW)', 'Region', 'Agent 2', 'Agent 3', 'Language',\n",
    "       'City', 'Age', 'Gestational weeks at first contact', '+ days',\n",
    "       'Main reason for contact', 'Subreason 1', 'Subreason 2',\n",
    "       '2nd reason for contact', '2nd Subreason 1', '3rd reason for contact',\n",
    "       '3rd Subreason 1', need to be dropped after being explored for necessity."
   ]
  },
  {
   "cell_type": "code",
   "execution_count": 27,
   "id": "c509b7a1",
   "metadata": {},
   "outputs": [],
   "source": [
    "df1.drop(['Countries (NEW)', 'Region', 'Agent 2', 'Agent 3', 'Language',\n",
    "       'Age', 'Subreason 1', 'Subreason 2',\n",
    "       '2nd reason for contact', '2nd Subreason 1', '3rd reason for contact',\n",
    "       '3rd Subreason 1','ref-Subreason 1' ], axis=1, inplace=True)"
   ]
  },
  {
   "cell_type": "code",
   "execution_count": 28,
   "id": "aab8c3ed",
   "metadata": {},
   "outputs": [
    {
     "data": {
      "text/plain": [
       "Ticket ID                                         0.000000\n",
       "Status                                            0.000000\n",
       "Source                                            0.000000\n",
       "Agent                                             0.000000\n",
       "Group                                             0.000000\n",
       "Created time                                      0.000000\n",
       "Month                                             0.000000\n",
       "Last update time                                  0.000000\n",
       "Resolution time (in hrs)                          0.000000\n",
       "Agent interactions                                0.000000\n",
       "Customer interactions                             0.000000\n",
       "First response status                            74.871575\n",
       "Tags                                             44.734589\n",
       "City                                             84.417808\n",
       "Gestational weeks at first contact               83.561644\n",
       "+ days                                           87.714041\n",
       "Main reason for contact                          70.333904\n",
       "In possession of pills                           84.289384\n",
       "Kind of pills                                    96.147260\n",
       "Amount of pills                                  97.303082\n",
       "Abortion method counselled on                    82.363014\n",
       "MA                                                0.000000\n",
       "MVA/EVA                                           0.000000\n",
       "D&E                                               0.000000\n",
       "Induction                                         0.000000\n",
       "PAC                                               0.000000\n",
       "Referral                                         70.547945\n",
       "Ability to pay for referral services/products    99.871575\n",
       "Reason for not referring                         86.301370\n",
       "Reason for referral                              83.005137\n",
       "Referred to on-the-ground org                     0.000000\n",
       "Referred to direct provider                       0.000000\n",
       "dtype: float64"
      ]
     },
     "execution_count": 28,
     "metadata": {},
     "output_type": "execute_result"
    }
   ],
   "source": [
    "(df1.isna().sum()/len(df1))*100"
   ]
  },
  {
   "cell_type": "code",
   "execution_count": 29,
   "id": "c6dbae54",
   "metadata": {},
   "outputs": [],
   "source": [
    "# filling missing values with word 'missing' to indicate missing entry\n",
    "\n",
    "df1. fillna({\"First response status\": \"not_indicated\",\n",
    "           \"Reason for referral\": \"not_indicated\",\n",
    "            \"Reason for not referring\":\"not_indicated\",\n",
    "            \"Referral \":\"not_indicated\",\n",
    "            \"Tags\":\"not_indicated\",\n",
    "            \"Gestational weeks at first contact\":\"not_indicated\",\n",
    "             \"+ days\" : \"not_indicated\",\n",
    "            \"ageofpregnancy\":\"not_indicated\",\n",
    "            \"Main reason for contact\":\"not_indicated\",\n",
    "            \"In possession of pills\":\"not_indicated\",\n",
    "            \"Kind of pills\":\"not_indicated\",\n",
    "            \"Amount of pills\":\"not_indicated\",\n",
    "            \"Abortion method counselled on\":\"not_indicated\",\n",
    "            \"City\":\"not_indicated\",\n",
    "             \"Ability to pay for referral services/products\":\"not_indicated\"\n",
    "           }, inplace=True)"
   ]
  },
  {
   "cell_type": "code",
   "execution_count": 30,
   "id": "ddbf3d56",
   "metadata": {},
   "outputs": [
    {
     "data": {
      "text/plain": [
       "Ticket ID                                        0.0\n",
       "Status                                           0.0\n",
       "Source                                           0.0\n",
       "Agent                                            0.0\n",
       "Group                                            0.0\n",
       "Created time                                     0.0\n",
       "Month                                            0.0\n",
       "Last update time                                 0.0\n",
       "Resolution time (in hrs)                         0.0\n",
       "Agent interactions                               0.0\n",
       "Customer interactions                            0.0\n",
       "First response status                            0.0\n",
       "Tags                                             0.0\n",
       "City                                             0.0\n",
       "Gestational weeks at first contact               0.0\n",
       "+ days                                           0.0\n",
       "Main reason for contact                          0.0\n",
       "In possession of pills                           0.0\n",
       "Kind of pills                                    0.0\n",
       "Amount of pills                                  0.0\n",
       "Abortion method counselled on                    0.0\n",
       "MA                                               0.0\n",
       "MVA/EVA                                          0.0\n",
       "D&E                                              0.0\n",
       "Induction                                        0.0\n",
       "PAC                                              0.0\n",
       "Referral                                         0.0\n",
       "Ability to pay for referral services/products    0.0\n",
       "Reason for not referring                         0.0\n",
       "Reason for referral                              0.0\n",
       "Referred to on-the-ground org                    0.0\n",
       "Referred to direct provider                      0.0\n",
       "dtype: float64"
      ]
     },
     "execution_count": 30,
     "metadata": {},
     "output_type": "execute_result"
    }
   ],
   "source": [
    "(df1.isna().sum()/len(df1))*100"
   ]
  },
  {
   "cell_type": "code",
   "execution_count": 31,
   "id": "c40c43d3",
   "metadata": {},
   "outputs": [
    {
     "data": {
      "text/plain": [
       "2326    not_indicated-not_indicateddays\n",
       "2327    not_indicated-not_indicateddays\n",
       "2328          5 weeks-not_indicateddays\n",
       "2329    not_indicated-not_indicateddays\n",
       "2330    not_indicated-not_indicateddays\n",
       "2331    not_indicated-not_indicateddays\n",
       "2332    not_indicated-not_indicateddays\n",
       "2333    not_indicated-not_indicateddays\n",
       "2334    not_indicated-not_indicateddays\n",
       "2335    not_indicated-not_indicateddays\n",
       "Name: ageofpregnancy, dtype: object"
      ]
     },
     "execution_count": 31,
     "metadata": {},
     "output_type": "execute_result"
    }
   ],
   "source": [
    "df1[\"ageofpregnancy\"] = df1['Gestational weeks at first contact'].astype(str) +\"-\"+ (df1[\"+ days\"].astype(str)) + 'days'\n",
    "df1[\"ageofpregnancy\"].tail(10)"
   ]
  },
  {
   "cell_type": "code",
   "execution_count": 32,
   "id": "424ca037",
   "metadata": {},
   "outputs": [],
   "source": [
    "df1.loc[df1['ageofpregnancy'] == \"missing-missingdays\", 'ageofpregnancy'] = \"missing\"\n"
   ]
  },
  {
   "cell_type": "code",
   "execution_count": 33,
   "id": "8b89662b",
   "metadata": {},
   "outputs": [
    {
     "data": {
      "text/plain": [
       "2326    not_indicated-not_indicateddays\n",
       "2327    not_indicated-not_indicateddays\n",
       "2328          5 weeks-not_indicateddays\n",
       "2329    not_indicated-not_indicateddays\n",
       "2330    not_indicated-not_indicateddays\n",
       "2331    not_indicated-not_indicateddays\n",
       "2332    not_indicated-not_indicateddays\n",
       "2333    not_indicated-not_indicateddays\n",
       "2334    not_indicated-not_indicateddays\n",
       "2335    not_indicated-not_indicateddays\n",
       "Name: ageofpregnancy, dtype: object"
      ]
     },
     "execution_count": 33,
     "metadata": {},
     "output_type": "execute_result"
    }
   ],
   "source": [
    "df1[\"ageofpregnancy\"].tail(10)"
   ]
  },
  {
   "cell_type": "code",
   "execution_count": 34,
   "id": "e926df36",
   "metadata": {},
   "outputs": [
    {
     "data": {
      "text/plain": [
       "2326    not_indicated-not_indicateddays\n",
       "2327    not_indicated-not_indicateddays\n",
       "2328          5 weeks-not_indicateddays\n",
       "2329    not_indicated-not_indicateddays\n",
       "2330    not_indicated-not_indicateddays\n",
       "2331    not_indicated-not_indicateddays\n",
       "2332    not_indicated-not_indicateddays\n",
       "2333    not_indicated-not_indicateddays\n",
       "2334    not_indicated-not_indicateddays\n",
       "2335    not_indicated-not_indicateddays\n",
       "Name: ageofpregnancy, dtype: object"
      ]
     },
     "execution_count": 34,
     "metadata": {},
     "output_type": "execute_result"
    }
   ],
   "source": [
    "df1['ageofpregnancy'] = df1['ageofpregnancy'].str.replace('-missingdays', '')\n",
    "df1[\"ageofpregnancy\"].tail(10)"
   ]
  },
  {
   "cell_type": "code",
   "execution_count": 35,
   "id": "f340fffe",
   "metadata": {},
   "outputs": [
    {
     "data": {
      "text/html": [
       "<div>\n",
       "<style scoped>\n",
       "    .dataframe tbody tr th:only-of-type {\n",
       "        vertical-align: middle;\n",
       "    }\n",
       "\n",
       "    .dataframe tbody tr th {\n",
       "        vertical-align: top;\n",
       "    }\n",
       "\n",
       "    .dataframe thead th {\n",
       "        text-align: right;\n",
       "    }\n",
       "</style>\n",
       "<table border=\"1\" class=\"dataframe\">\n",
       "  <thead>\n",
       "    <tr style=\"text-align: right;\">\n",
       "      <th></th>\n",
       "      <th>Ticket ID</th>\n",
       "      <th>Status</th>\n",
       "      <th>Source</th>\n",
       "      <th>Agent</th>\n",
       "      <th>Group</th>\n",
       "      <th>Created time</th>\n",
       "      <th>Month</th>\n",
       "      <th>Last update time</th>\n",
       "      <th>Resolution time (in hrs)</th>\n",
       "      <th>Agent interactions</th>\n",
       "      <th>Customer interactions</th>\n",
       "      <th>First response status</th>\n",
       "      <th>Tags</th>\n",
       "      <th>City</th>\n",
       "      <th>Gestational weeks at first contact</th>\n",
       "      <th>+ days</th>\n",
       "      <th>Main reason for contact</th>\n",
       "      <th>In possession of pills</th>\n",
       "      <th>Kind of pills</th>\n",
       "      <th>Amount of pills</th>\n",
       "      <th>Abortion method counselled on</th>\n",
       "      <th>MA</th>\n",
       "      <th>MVA/EVA</th>\n",
       "      <th>D&amp;E</th>\n",
       "      <th>Induction</th>\n",
       "      <th>PAC</th>\n",
       "      <th>Referral</th>\n",
       "      <th>Ability to pay for referral services/products</th>\n",
       "      <th>Reason for not referring</th>\n",
       "      <th>Reason for referral</th>\n",
       "      <th>Referred to on-the-ground org</th>\n",
       "      <th>Referred to direct provider</th>\n",
       "      <th>ageofpregnancy</th>\n",
       "    </tr>\n",
       "  </thead>\n",
       "  <tbody>\n",
       "    <tr>\n",
       "      <th>0</th>\n",
       "      <td>92854</td>\n",
       "      <td>Waiting on User</td>\n",
       "      <td>Email</td>\n",
       "      <td>Julia L</td>\n",
       "      <td>Spanish</td>\n",
       "      <td>2022-09-01 00:01:23</td>\n",
       "      <td>September</td>\n",
       "      <td>2022-09-01 16:32:04</td>\n",
       "      <td>00:00:00</td>\n",
       "      <td>1</td>\n",
       "      <td>2</td>\n",
       "      <td>Within SLA</td>\n",
       "      <td>not_indicated</td>\n",
       "      <td>not_indicated</td>\n",
       "      <td>not_indicated</td>\n",
       "      <td>not_indicated</td>\n",
       "      <td>Suspected Pregnancy/Pregnancy confirmation</td>\n",
       "      <td>not_indicated</td>\n",
       "      <td>not_indicated</td>\n",
       "      <td>not_indicated</td>\n",
       "      <td>not_indicated</td>\n",
       "      <td>False</td>\n",
       "      <td>False</td>\n",
       "      <td>False</td>\n",
       "      <td>False</td>\n",
       "      <td>False</td>\n",
       "      <td>No</td>\n",
       "      <td>not_indicated</td>\n",
       "      <td>Suspected Pregnancy</td>\n",
       "      <td>not_indicated</td>\n",
       "      <td>False</td>\n",
       "      <td>False</td>\n",
       "      <td>not_indicated-not_indicateddays</td>\n",
       "    </tr>\n",
       "    <tr>\n",
       "      <th>1</th>\n",
       "      <td>92855</td>\n",
       "      <td>Evaluation sent</td>\n",
       "      <td>Chat</td>\n",
       "      <td>No Agent</td>\n",
       "      <td>Spanish</td>\n",
       "      <td>2022-09-01 00:05:46</td>\n",
       "      <td>September</td>\n",
       "      <td>2022-09-27 18:12:41</td>\n",
       "      <td>00:00:00</td>\n",
       "      <td>0</td>\n",
       "      <td>1</td>\n",
       "      <td>not_indicated</td>\n",
       "      <td>Away conversation</td>\n",
       "      <td>not_indicated</td>\n",
       "      <td>not_indicated</td>\n",
       "      <td>not_indicated</td>\n",
       "      <td>not_indicated</td>\n",
       "      <td>not_indicated</td>\n",
       "      <td>not_indicated</td>\n",
       "      <td>not_indicated</td>\n",
       "      <td>not_indicated</td>\n",
       "      <td>False</td>\n",
       "      <td>False</td>\n",
       "      <td>False</td>\n",
       "      <td>False</td>\n",
       "      <td>False</td>\n",
       "      <td>not_indicated</td>\n",
       "      <td>not_indicated</td>\n",
       "      <td>not_indicated</td>\n",
       "      <td>not_indicated</td>\n",
       "      <td>False</td>\n",
       "      <td>False</td>\n",
       "      <td>not_indicated-not_indicateddays</td>\n",
       "    </tr>\n",
       "    <tr>\n",
       "      <th>2</th>\n",
       "      <td>92856</td>\n",
       "      <td>Evaluation sent</td>\n",
       "      <td>Email</td>\n",
       "      <td>No Agent</td>\n",
       "      <td>Spanish</td>\n",
       "      <td>2022-09-01 00:10:48</td>\n",
       "      <td>September</td>\n",
       "      <td>2022-09-27 18:12:41</td>\n",
       "      <td>00:00:00</td>\n",
       "      <td>0</td>\n",
       "      <td>1</td>\n",
       "      <td>not_indicated</td>\n",
       "      <td>not_indicated</td>\n",
       "      <td>not_indicated</td>\n",
       "      <td>not_indicated</td>\n",
       "      <td>not_indicated</td>\n",
       "      <td>not_indicated</td>\n",
       "      <td>not_indicated</td>\n",
       "      <td>not_indicated</td>\n",
       "      <td>not_indicated</td>\n",
       "      <td>not_indicated</td>\n",
       "      <td>False</td>\n",
       "      <td>False</td>\n",
       "      <td>False</td>\n",
       "      <td>False</td>\n",
       "      <td>False</td>\n",
       "      <td>not_indicated</td>\n",
       "      <td>not_indicated</td>\n",
       "      <td>not_indicated</td>\n",
       "      <td>not_indicated</td>\n",
       "      <td>False</td>\n",
       "      <td>False</td>\n",
       "      <td>not_indicated-not_indicateddays</td>\n",
       "    </tr>\n",
       "    <tr>\n",
       "      <th>3</th>\n",
       "      <td>101202</td>\n",
       "      <td>Waiting on KQ - reminder</td>\n",
       "      <td>Chat</td>\n",
       "      <td>Lucy P</td>\n",
       "      <td>Spanish</td>\n",
       "      <td>2022-09-23 18:20:24</td>\n",
       "      <td>September</td>\n",
       "      <td>2022-09-30 20:23:28</td>\n",
       "      <td>00:00:00</td>\n",
       "      <td>1</td>\n",
       "      <td>1</td>\n",
       "      <td>Within SLA</td>\n",
       "      <td>not_indicated</td>\n",
       "      <td>not_indicated</td>\n",
       "      <td>not_indicated</td>\n",
       "      <td>not_indicated</td>\n",
       "      <td>Access to abortion services/Help General</td>\n",
       "      <td>not_indicated</td>\n",
       "      <td>not_indicated</td>\n",
       "      <td>not_indicated</td>\n",
       "      <td>not_indicated</td>\n",
       "      <td>False</td>\n",
       "      <td>False</td>\n",
       "      <td>False</td>\n",
       "      <td>False</td>\n",
       "      <td>False</td>\n",
       "      <td>No</td>\n",
       "      <td>not_indicated</td>\n",
       "      <td>Dropped</td>\n",
       "      <td>not_indicated</td>\n",
       "      <td>False</td>\n",
       "      <td>False</td>\n",
       "      <td>not_indicated-not_indicateddays</td>\n",
       "    </tr>\n",
       "    <tr>\n",
       "      <th>4</th>\n",
       "      <td>101407</td>\n",
       "      <td>Waiting on KQ</td>\n",
       "      <td>Chat</td>\n",
       "      <td>No Agent</td>\n",
       "      <td>No Group</td>\n",
       "      <td>2022-09-24 12:16:03</td>\n",
       "      <td>September</td>\n",
       "      <td>2022-09-24 12:16:03</td>\n",
       "      <td>00:00:00</td>\n",
       "      <td>0</td>\n",
       "      <td>1</td>\n",
       "      <td>not_indicated</td>\n",
       "      <td>Away conversation</td>\n",
       "      <td>not_indicated</td>\n",
       "      <td>not_indicated</td>\n",
       "      <td>not_indicated</td>\n",
       "      <td>not_indicated</td>\n",
       "      <td>not_indicated</td>\n",
       "      <td>not_indicated</td>\n",
       "      <td>not_indicated</td>\n",
       "      <td>not_indicated</td>\n",
       "      <td>False</td>\n",
       "      <td>False</td>\n",
       "      <td>False</td>\n",
       "      <td>False</td>\n",
       "      <td>False</td>\n",
       "      <td>not_indicated</td>\n",
       "      <td>not_indicated</td>\n",
       "      <td>not_indicated</td>\n",
       "      <td>not_indicated</td>\n",
       "      <td>False</td>\n",
       "      <td>False</td>\n",
       "      <td>not_indicated-not_indicateddays</td>\n",
       "    </tr>\n",
       "  </tbody>\n",
       "</table>\n",
       "</div>"
      ],
      "text/plain": [
       "   Ticket ID                    Status Source     Agent     Group  \\\n",
       "0      92854           Waiting on User  Email   Julia L   Spanish   \n",
       "1      92855           Evaluation sent   Chat  No Agent   Spanish   \n",
       "2      92856           Evaluation sent  Email  No Agent   Spanish   \n",
       "3     101202  Waiting on KQ - reminder   Chat    Lucy P   Spanish   \n",
       "4     101407             Waiting on KQ   Chat  No Agent  No Group   \n",
       "\n",
       "          Created time      Month     Last update time  \\\n",
       "0  2022-09-01 00:01:23  September  2022-09-01 16:32:04   \n",
       "1  2022-09-01 00:05:46  September  2022-09-27 18:12:41   \n",
       "2  2022-09-01 00:10:48  September  2022-09-27 18:12:41   \n",
       "3  2022-09-23 18:20:24  September  2022-09-30 20:23:28   \n",
       "4  2022-09-24 12:16:03  September  2022-09-24 12:16:03   \n",
       "\n",
       "  Resolution time (in hrs)  Agent interactions  Customer interactions  \\\n",
       "0                 00:00:00                   1                      2   \n",
       "1                 00:00:00                   0                      1   \n",
       "2                 00:00:00                   0                      1   \n",
       "3                 00:00:00                   1                      1   \n",
       "4                 00:00:00                   0                      1   \n",
       "\n",
       "  First response status               Tags           City  \\\n",
       "0            Within SLA      not_indicated  not_indicated   \n",
       "1         not_indicated  Away conversation  not_indicated   \n",
       "2         not_indicated      not_indicated  not_indicated   \n",
       "3            Within SLA      not_indicated  not_indicated   \n",
       "4         not_indicated  Away conversation  not_indicated   \n",
       "\n",
       "  Gestational weeks at first contact         + days  \\\n",
       "0                      not_indicated  not_indicated   \n",
       "1                      not_indicated  not_indicated   \n",
       "2                      not_indicated  not_indicated   \n",
       "3                      not_indicated  not_indicated   \n",
       "4                      not_indicated  not_indicated   \n",
       "\n",
       "                      Main reason for contact In possession of pills  \\\n",
       "0  Suspected Pregnancy/Pregnancy confirmation          not_indicated   \n",
       "1                               not_indicated          not_indicated   \n",
       "2                               not_indicated          not_indicated   \n",
       "3    Access to abortion services/Help General          not_indicated   \n",
       "4                               not_indicated          not_indicated   \n",
       "\n",
       "   Kind of pills Amount of pills Abortion method counselled on     MA  \\\n",
       "0  not_indicated   not_indicated                 not_indicated  False   \n",
       "1  not_indicated   not_indicated                 not_indicated  False   \n",
       "2  not_indicated   not_indicated                 not_indicated  False   \n",
       "3  not_indicated   not_indicated                 not_indicated  False   \n",
       "4  not_indicated   not_indicated                 not_indicated  False   \n",
       "\n",
       "   MVA/EVA    D&E  Induction    PAC      Referral   \\\n",
       "0    False  False      False  False             No   \n",
       "1    False  False      False  False  not_indicated   \n",
       "2    False  False      False  False  not_indicated   \n",
       "3    False  False      False  False             No   \n",
       "4    False  False      False  False  not_indicated   \n",
       "\n",
       "  Ability to pay for referral services/products Reason for not referring  \\\n",
       "0                                 not_indicated      Suspected Pregnancy   \n",
       "1                                 not_indicated            not_indicated   \n",
       "2                                 not_indicated            not_indicated   \n",
       "3                                 not_indicated                  Dropped   \n",
       "4                                 not_indicated            not_indicated   \n",
       "\n",
       "  Reason for referral  Referred to on-the-ground org  \\\n",
       "0       not_indicated                          False   \n",
       "1       not_indicated                          False   \n",
       "2       not_indicated                          False   \n",
       "3       not_indicated                          False   \n",
       "4       not_indicated                          False   \n",
       "\n",
       "   Referred to direct provider                   ageofpregnancy  \n",
       "0                        False  not_indicated-not_indicateddays  \n",
       "1                        False  not_indicated-not_indicateddays  \n",
       "2                        False  not_indicated-not_indicateddays  \n",
       "3                        False  not_indicated-not_indicateddays  \n",
       "4                        False  not_indicated-not_indicateddays  "
      ]
     },
     "execution_count": 35,
     "metadata": {},
     "output_type": "execute_result"
    }
   ],
   "source": [
    "df1.head()"
   ]
  },
  {
   "cell_type": "code",
   "execution_count": 36,
   "id": "b1ccbb08",
   "metadata": {},
   "outputs": [],
   "source": [
    "# dropping unnecessary columns\n",
    "\n",
    "df1.drop([\"Gestational weeks at first contact\", \"+ days\"], axis=1, inplace=True)"
   ]
  },
  {
   "cell_type": "code",
   "execution_count": 37,
   "id": "181c859a",
   "metadata": {},
   "outputs": [
    {
     "data": {
      "text/html": [
       "<div>\n",
       "<style scoped>\n",
       "    .dataframe tbody tr th:only-of-type {\n",
       "        vertical-align: middle;\n",
       "    }\n",
       "\n",
       "    .dataframe tbody tr th {\n",
       "        vertical-align: top;\n",
       "    }\n",
       "\n",
       "    .dataframe thead th {\n",
       "        text-align: right;\n",
       "    }\n",
       "</style>\n",
       "<table border=\"1\" class=\"dataframe\">\n",
       "  <thead>\n",
       "    <tr style=\"text-align: right;\">\n",
       "      <th></th>\n",
       "      <th>Ticket ID</th>\n",
       "      <th>Status</th>\n",
       "      <th>Source</th>\n",
       "      <th>Agent</th>\n",
       "      <th>Group</th>\n",
       "      <th>Created time</th>\n",
       "      <th>Month</th>\n",
       "      <th>Last update time</th>\n",
       "      <th>Resolution time (in hrs)</th>\n",
       "      <th>Agent interactions</th>\n",
       "      <th>Customer interactions</th>\n",
       "      <th>First response status</th>\n",
       "      <th>Tags</th>\n",
       "      <th>City</th>\n",
       "      <th>Main reason for contact</th>\n",
       "      <th>In possession of pills</th>\n",
       "      <th>Kind of pills</th>\n",
       "      <th>Amount of pills</th>\n",
       "      <th>Abortion method counselled on</th>\n",
       "      <th>MA</th>\n",
       "      <th>MVA/EVA</th>\n",
       "      <th>D&amp;E</th>\n",
       "      <th>Induction</th>\n",
       "      <th>PAC</th>\n",
       "      <th>Referral</th>\n",
       "      <th>Ability to pay for referral services/products</th>\n",
       "      <th>Reason for not referring</th>\n",
       "      <th>Reason for referral</th>\n",
       "      <th>Referred to on-the-ground org</th>\n",
       "      <th>Referred to direct provider</th>\n",
       "      <th>ageofpregnancy</th>\n",
       "    </tr>\n",
       "  </thead>\n",
       "  <tbody>\n",
       "    <tr>\n",
       "      <th>0</th>\n",
       "      <td>92854</td>\n",
       "      <td>Waiting on User</td>\n",
       "      <td>Email</td>\n",
       "      <td>Julia L</td>\n",
       "      <td>Spanish</td>\n",
       "      <td>2022-09-01 00:01:23</td>\n",
       "      <td>September</td>\n",
       "      <td>2022-09-01 16:32:04</td>\n",
       "      <td>00:00:00</td>\n",
       "      <td>1</td>\n",
       "      <td>2</td>\n",
       "      <td>Within SLA</td>\n",
       "      <td>not_indicated</td>\n",
       "      <td>not_indicated</td>\n",
       "      <td>Suspected Pregnancy/Pregnancy confirmation</td>\n",
       "      <td>not_indicated</td>\n",
       "      <td>not_indicated</td>\n",
       "      <td>not_indicated</td>\n",
       "      <td>not_indicated</td>\n",
       "      <td>False</td>\n",
       "      <td>False</td>\n",
       "      <td>False</td>\n",
       "      <td>False</td>\n",
       "      <td>False</td>\n",
       "      <td>No</td>\n",
       "      <td>not_indicated</td>\n",
       "      <td>Suspected Pregnancy</td>\n",
       "      <td>not_indicated</td>\n",
       "      <td>False</td>\n",
       "      <td>False</td>\n",
       "      <td>not_indicated-not_indicateddays</td>\n",
       "    </tr>\n",
       "    <tr>\n",
       "      <th>1</th>\n",
       "      <td>92855</td>\n",
       "      <td>Evaluation sent</td>\n",
       "      <td>Chat</td>\n",
       "      <td>No Agent</td>\n",
       "      <td>Spanish</td>\n",
       "      <td>2022-09-01 00:05:46</td>\n",
       "      <td>September</td>\n",
       "      <td>2022-09-27 18:12:41</td>\n",
       "      <td>00:00:00</td>\n",
       "      <td>0</td>\n",
       "      <td>1</td>\n",
       "      <td>not_indicated</td>\n",
       "      <td>Away conversation</td>\n",
       "      <td>not_indicated</td>\n",
       "      <td>not_indicated</td>\n",
       "      <td>not_indicated</td>\n",
       "      <td>not_indicated</td>\n",
       "      <td>not_indicated</td>\n",
       "      <td>not_indicated</td>\n",
       "      <td>False</td>\n",
       "      <td>False</td>\n",
       "      <td>False</td>\n",
       "      <td>False</td>\n",
       "      <td>False</td>\n",
       "      <td>not_indicated</td>\n",
       "      <td>not_indicated</td>\n",
       "      <td>not_indicated</td>\n",
       "      <td>not_indicated</td>\n",
       "      <td>False</td>\n",
       "      <td>False</td>\n",
       "      <td>not_indicated-not_indicateddays</td>\n",
       "    </tr>\n",
       "    <tr>\n",
       "      <th>2</th>\n",
       "      <td>92856</td>\n",
       "      <td>Evaluation sent</td>\n",
       "      <td>Email</td>\n",
       "      <td>No Agent</td>\n",
       "      <td>Spanish</td>\n",
       "      <td>2022-09-01 00:10:48</td>\n",
       "      <td>September</td>\n",
       "      <td>2022-09-27 18:12:41</td>\n",
       "      <td>00:00:00</td>\n",
       "      <td>0</td>\n",
       "      <td>1</td>\n",
       "      <td>not_indicated</td>\n",
       "      <td>not_indicated</td>\n",
       "      <td>not_indicated</td>\n",
       "      <td>not_indicated</td>\n",
       "      <td>not_indicated</td>\n",
       "      <td>not_indicated</td>\n",
       "      <td>not_indicated</td>\n",
       "      <td>not_indicated</td>\n",
       "      <td>False</td>\n",
       "      <td>False</td>\n",
       "      <td>False</td>\n",
       "      <td>False</td>\n",
       "      <td>False</td>\n",
       "      <td>not_indicated</td>\n",
       "      <td>not_indicated</td>\n",
       "      <td>not_indicated</td>\n",
       "      <td>not_indicated</td>\n",
       "      <td>False</td>\n",
       "      <td>False</td>\n",
       "      <td>not_indicated-not_indicateddays</td>\n",
       "    </tr>\n",
       "    <tr>\n",
       "      <th>3</th>\n",
       "      <td>101202</td>\n",
       "      <td>Waiting on KQ - reminder</td>\n",
       "      <td>Chat</td>\n",
       "      <td>Lucy P</td>\n",
       "      <td>Spanish</td>\n",
       "      <td>2022-09-23 18:20:24</td>\n",
       "      <td>September</td>\n",
       "      <td>2022-09-30 20:23:28</td>\n",
       "      <td>00:00:00</td>\n",
       "      <td>1</td>\n",
       "      <td>1</td>\n",
       "      <td>Within SLA</td>\n",
       "      <td>not_indicated</td>\n",
       "      <td>not_indicated</td>\n",
       "      <td>Access to abortion services/Help General</td>\n",
       "      <td>not_indicated</td>\n",
       "      <td>not_indicated</td>\n",
       "      <td>not_indicated</td>\n",
       "      <td>not_indicated</td>\n",
       "      <td>False</td>\n",
       "      <td>False</td>\n",
       "      <td>False</td>\n",
       "      <td>False</td>\n",
       "      <td>False</td>\n",
       "      <td>No</td>\n",
       "      <td>not_indicated</td>\n",
       "      <td>Dropped</td>\n",
       "      <td>not_indicated</td>\n",
       "      <td>False</td>\n",
       "      <td>False</td>\n",
       "      <td>not_indicated-not_indicateddays</td>\n",
       "    </tr>\n",
       "    <tr>\n",
       "      <th>4</th>\n",
       "      <td>101407</td>\n",
       "      <td>Waiting on KQ</td>\n",
       "      <td>Chat</td>\n",
       "      <td>No Agent</td>\n",
       "      <td>No Group</td>\n",
       "      <td>2022-09-24 12:16:03</td>\n",
       "      <td>September</td>\n",
       "      <td>2022-09-24 12:16:03</td>\n",
       "      <td>00:00:00</td>\n",
       "      <td>0</td>\n",
       "      <td>1</td>\n",
       "      <td>not_indicated</td>\n",
       "      <td>Away conversation</td>\n",
       "      <td>not_indicated</td>\n",
       "      <td>not_indicated</td>\n",
       "      <td>not_indicated</td>\n",
       "      <td>not_indicated</td>\n",
       "      <td>not_indicated</td>\n",
       "      <td>not_indicated</td>\n",
       "      <td>False</td>\n",
       "      <td>False</td>\n",
       "      <td>False</td>\n",
       "      <td>False</td>\n",
       "      <td>False</td>\n",
       "      <td>not_indicated</td>\n",
       "      <td>not_indicated</td>\n",
       "      <td>not_indicated</td>\n",
       "      <td>not_indicated</td>\n",
       "      <td>False</td>\n",
       "      <td>False</td>\n",
       "      <td>not_indicated-not_indicateddays</td>\n",
       "    </tr>\n",
       "  </tbody>\n",
       "</table>\n",
       "</div>"
      ],
      "text/plain": [
       "   Ticket ID                    Status Source     Agent     Group  \\\n",
       "0      92854           Waiting on User  Email   Julia L   Spanish   \n",
       "1      92855           Evaluation sent   Chat  No Agent   Spanish   \n",
       "2      92856           Evaluation sent  Email  No Agent   Spanish   \n",
       "3     101202  Waiting on KQ - reminder   Chat    Lucy P   Spanish   \n",
       "4     101407             Waiting on KQ   Chat  No Agent  No Group   \n",
       "\n",
       "          Created time      Month     Last update time  \\\n",
       "0  2022-09-01 00:01:23  September  2022-09-01 16:32:04   \n",
       "1  2022-09-01 00:05:46  September  2022-09-27 18:12:41   \n",
       "2  2022-09-01 00:10:48  September  2022-09-27 18:12:41   \n",
       "3  2022-09-23 18:20:24  September  2022-09-30 20:23:28   \n",
       "4  2022-09-24 12:16:03  September  2022-09-24 12:16:03   \n",
       "\n",
       "  Resolution time (in hrs)  Agent interactions  Customer interactions  \\\n",
       "0                 00:00:00                   1                      2   \n",
       "1                 00:00:00                   0                      1   \n",
       "2                 00:00:00                   0                      1   \n",
       "3                 00:00:00                   1                      1   \n",
       "4                 00:00:00                   0                      1   \n",
       "\n",
       "  First response status               Tags           City  \\\n",
       "0            Within SLA      not_indicated  not_indicated   \n",
       "1         not_indicated  Away conversation  not_indicated   \n",
       "2         not_indicated      not_indicated  not_indicated   \n",
       "3            Within SLA      not_indicated  not_indicated   \n",
       "4         not_indicated  Away conversation  not_indicated   \n",
       "\n",
       "                      Main reason for contact In possession of pills  \\\n",
       "0  Suspected Pregnancy/Pregnancy confirmation          not_indicated   \n",
       "1                               not_indicated          not_indicated   \n",
       "2                               not_indicated          not_indicated   \n",
       "3    Access to abortion services/Help General          not_indicated   \n",
       "4                               not_indicated          not_indicated   \n",
       "\n",
       "   Kind of pills Amount of pills Abortion method counselled on     MA  \\\n",
       "0  not_indicated   not_indicated                 not_indicated  False   \n",
       "1  not_indicated   not_indicated                 not_indicated  False   \n",
       "2  not_indicated   not_indicated                 not_indicated  False   \n",
       "3  not_indicated   not_indicated                 not_indicated  False   \n",
       "4  not_indicated   not_indicated                 not_indicated  False   \n",
       "\n",
       "   MVA/EVA    D&E  Induction    PAC      Referral   \\\n",
       "0    False  False      False  False             No   \n",
       "1    False  False      False  False  not_indicated   \n",
       "2    False  False      False  False  not_indicated   \n",
       "3    False  False      False  False             No   \n",
       "4    False  False      False  False  not_indicated   \n",
       "\n",
       "  Ability to pay for referral services/products Reason for not referring  \\\n",
       "0                                 not_indicated      Suspected Pregnancy   \n",
       "1                                 not_indicated            not_indicated   \n",
       "2                                 not_indicated            not_indicated   \n",
       "3                                 not_indicated                  Dropped   \n",
       "4                                 not_indicated            not_indicated   \n",
       "\n",
       "  Reason for referral  Referred to on-the-ground org  \\\n",
       "0       not_indicated                          False   \n",
       "1       not_indicated                          False   \n",
       "2       not_indicated                          False   \n",
       "3       not_indicated                          False   \n",
       "4       not_indicated                          False   \n",
       "\n",
       "   Referred to direct provider                   ageofpregnancy  \n",
       "0                        False  not_indicated-not_indicateddays  \n",
       "1                        False  not_indicated-not_indicateddays  \n",
       "2                        False  not_indicated-not_indicateddays  \n",
       "3                        False  not_indicated-not_indicateddays  \n",
       "4                        False  not_indicated-not_indicateddays  "
      ]
     },
     "execution_count": 37,
     "metadata": {},
     "output_type": "execute_result"
    }
   ],
   "source": [
    "df1.head()"
   ]
  },
  {
   "cell_type": "code",
   "execution_count": 38,
   "id": "bfa729dd",
   "metadata": {},
   "outputs": [
    {
     "name": "stdout",
     "output_type": "stream",
     "text": [
      "The data has 0 duplicated rows\n"
     ]
    },
    {
     "data": {
      "text/html": [
       "<div>\n",
       "<style scoped>\n",
       "    .dataframe tbody tr th:only-of-type {\n",
       "        vertical-align: middle;\n",
       "    }\n",
       "\n",
       "    .dataframe tbody tr th {\n",
       "        vertical-align: top;\n",
       "    }\n",
       "\n",
       "    .dataframe thead th {\n",
       "        text-align: right;\n",
       "    }\n",
       "</style>\n",
       "<table border=\"1\" class=\"dataframe\">\n",
       "  <thead>\n",
       "    <tr style=\"text-align: right;\">\n",
       "      <th></th>\n",
       "      <th>Ticket ID</th>\n",
       "      <th>Status</th>\n",
       "      <th>Source</th>\n",
       "      <th>Agent</th>\n",
       "      <th>Group</th>\n",
       "      <th>Created time</th>\n",
       "      <th>Month</th>\n",
       "      <th>Last update time</th>\n",
       "      <th>Resolution time (in hrs)</th>\n",
       "      <th>Agent interactions</th>\n",
       "      <th>Customer interactions</th>\n",
       "      <th>First response status</th>\n",
       "      <th>Tags</th>\n",
       "      <th>City</th>\n",
       "      <th>Main reason for contact</th>\n",
       "      <th>In possession of pills</th>\n",
       "      <th>Kind of pills</th>\n",
       "      <th>Amount of pills</th>\n",
       "      <th>Abortion method counselled on</th>\n",
       "      <th>MA</th>\n",
       "      <th>MVA/EVA</th>\n",
       "      <th>D&amp;E</th>\n",
       "      <th>Induction</th>\n",
       "      <th>PAC</th>\n",
       "      <th>Referral</th>\n",
       "      <th>Ability to pay for referral services/products</th>\n",
       "      <th>Reason for not referring</th>\n",
       "      <th>Reason for referral</th>\n",
       "      <th>Referred to on-the-ground org</th>\n",
       "      <th>Referred to direct provider</th>\n",
       "      <th>ageofpregnancy</th>\n",
       "    </tr>\n",
       "  </thead>\n",
       "  <tbody>\n",
       "  </tbody>\n",
       "</table>\n",
       "</div>"
      ],
      "text/plain": [
       "Empty DataFrame\n",
       "Columns: [Ticket ID, Status, Source, Agent, Group, Created time, Month, Last update time, Resolution time (in hrs), Agent interactions, Customer interactions, First response status, Tags, City, Main reason for contact, In possession of pills, Kind of pills, Amount of pills, Abortion method counselled on, MA, MVA/EVA, D&E, Induction, PAC, Referral , Ability to pay for referral services/products, Reason for not referring, Reason for referral, Referred to on-the-ground org, Referred to direct provider, ageofpregnancy]\n",
       "Index: []"
      ]
     },
     "execution_count": 38,
     "metadata": {},
     "output_type": "execute_result"
    }
   ],
   "source": [
    "# checking for duplicates\n",
    "print(f\"The data has {df1.duplicated().sum()} duplicated rows\")\n",
    "\n",
    "duplicates = df1[df1.duplicated()]\n",
    "duplicates"
   ]
  },
  {
   "cell_type": "markdown",
   "id": "40eff1c6",
   "metadata": {},
   "source": [
    "There are no duplicated values in the first counselling dataset."
   ]
  },
  {
   "cell_type": "markdown",
   "id": "f50006ce",
   "metadata": {},
   "source": [
    "#### EDA"
   ]
  },
  {
   "cell_type": "code",
   "execution_count": 39,
   "id": "1c9a7e1c",
   "metadata": {},
   "outputs": [
    {
     "data": {
      "text/plain": [
       "(2336, 31)"
      ]
     },
     "execution_count": 39,
     "metadata": {},
     "output_type": "execute_result"
    }
   ],
   "source": [
    "# checking shape of data\n",
    "\n",
    "df1.shape"
   ]
  },
  {
   "cell_type": "code",
   "execution_count": 40,
   "id": "649e093b",
   "metadata": {},
   "outputs": [
    {
     "data": {
      "text/plain": [
       "Index(['Ticket ID', 'Status', 'Source', 'Agent', 'Group', 'Created time',\n",
       "       'Month', 'Last update time', 'Resolution time (in hrs)',\n",
       "       'Agent interactions', 'Customer interactions', 'First response status',\n",
       "       'Tags', 'City', 'Main reason for contact', 'In possession of pills',\n",
       "       'Kind of pills', 'Amount of pills', 'Abortion method counselled on',\n",
       "       'MA', 'MVA/EVA', 'D&E', 'Induction', 'PAC', 'Referral ',\n",
       "       'Ability to pay for referral services/products',\n",
       "       'Reason for not referring', 'Reason for referral',\n",
       "       'Referred to on-the-ground org', 'Referred to direct provider',\n",
       "       'ageofpregnancy'],\n",
       "      dtype='object')"
      ]
     },
     "execution_count": 40,
     "metadata": {},
     "output_type": "execute_result"
    }
   ],
   "source": [
    "df1.columns"
   ]
  },
  {
   "cell_type": "code",
   "execution_count": 41,
   "id": "45397abb",
   "metadata": {},
   "outputs": [
    {
     "data": {
      "text/plain": [
       "Ticket ID                                         int64\n",
       "Status                                           object\n",
       "Source                                           object\n",
       "Agent                                            object\n",
       "Group                                            object\n",
       "Created time                                     object\n",
       "Month                                            object\n",
       "Last update time                                 object\n",
       "Resolution time (in hrs)                         object\n",
       "Agent interactions                                int64\n",
       "Customer interactions                             int64\n",
       "First response status                            object\n",
       "Tags                                             object\n",
       "City                                             object\n",
       "Main reason for contact                          object\n",
       "In possession of pills                           object\n",
       "Kind of pills                                    object\n",
       "Amount of pills                                  object\n",
       "Abortion method counselled on                    object\n",
       "MA                                                 bool\n",
       "MVA/EVA                                            bool\n",
       "D&E                                                bool\n",
       "Induction                                          bool\n",
       "PAC                                                bool\n",
       "Referral                                         object\n",
       "Ability to pay for referral services/products    object\n",
       "Reason for not referring                         object\n",
       "Reason for referral                              object\n",
       "Referred to on-the-ground org                      bool\n",
       "Referred to direct provider                        bool\n",
       "ageofpregnancy                                   object\n",
       "dtype: object"
      ]
     },
     "execution_count": 41,
     "metadata": {},
     "output_type": "execute_result"
    }
   ],
   "source": [
    "# checking datatypes\n",
    "\n",
    "df1.dtypes"
   ]
  },
  {
   "cell_type": "code",
   "execution_count": 42,
   "id": "efd115cf",
   "metadata": {},
   "outputs": [
    {
     "name": "stdout",
     "output_type": "stream",
     "text": [
      "<class 'pandas.core.frame.DataFrame'>\n",
      "RangeIndex: 2336 entries, 0 to 2335\n",
      "Data columns (total 31 columns):\n",
      " #   Column                                         Non-Null Count  Dtype \n",
      "---  ------                                         --------------  ----- \n",
      " 0   Ticket ID                                      2336 non-null   int64 \n",
      " 1   Status                                         2336 non-null   object\n",
      " 2   Source                                         2336 non-null   object\n",
      " 3   Agent                                          2336 non-null   object\n",
      " 4   Group                                          2336 non-null   object\n",
      " 5   Created time                                   2336 non-null   object\n",
      " 6   Month                                          2336 non-null   object\n",
      " 7   Last update time                               2336 non-null   object\n",
      " 8   Resolution time (in hrs)                       2336 non-null   object\n",
      " 9   Agent interactions                             2336 non-null   int64 \n",
      " 10  Customer interactions                          2336 non-null   int64 \n",
      " 11  First response status                          2336 non-null   object\n",
      " 12  Tags                                           2336 non-null   object\n",
      " 13  City                                           2336 non-null   object\n",
      " 14  Main reason for contact                        2336 non-null   object\n",
      " 15  In possession of pills                         2336 non-null   object\n",
      " 16  Kind of pills                                  2336 non-null   object\n",
      " 17  Amount of pills                                2336 non-null   object\n",
      " 18  Abortion method counselled on                  2336 non-null   object\n",
      " 19  MA                                             2336 non-null   bool  \n",
      " 20  MVA/EVA                                        2336 non-null   bool  \n",
      " 21  D&E                                            2336 non-null   bool  \n",
      " 22  Induction                                      2336 non-null   bool  \n",
      " 23  PAC                                            2336 non-null   bool  \n",
      " 24  Referral                                       2336 non-null   object\n",
      " 25  Ability to pay for referral services/products  2336 non-null   object\n",
      " 26  Reason for not referring                       2336 non-null   object\n",
      " 27  Reason for referral                            2336 non-null   object\n",
      " 28  Referred to on-the-ground org                  2336 non-null   bool  \n",
      " 29  Referred to direct provider                    2336 non-null   bool  \n",
      " 30  ageofpregnancy                                 2336 non-null   object\n",
      "dtypes: bool(7), int64(3), object(21)\n",
      "memory usage: 454.1+ KB\n"
     ]
    }
   ],
   "source": [
    "df1.info()"
   ]
  },
  {
   "cell_type": "code",
   "execution_count": 44,
   "id": "e73b3512",
   "metadata": {},
   "outputs": [
    {
     "data": {
      "text/plain": [
       "Index(['Ticket ID', 'Status', 'Source', 'Agent', 'Group', 'Created time',\n",
       "       'Month', 'Last update time', 'Resolution time (in hrs)',\n",
       "       'Agent interactions', 'Customer interactions', 'First response status',\n",
       "       'Tags', 'City', 'Main reason for contact', 'In possession of pills',\n",
       "       'Kind of pills', 'Amount of pills', 'Abortion method counselled on',\n",
       "       'MA', 'MVA/EVA', 'D&E', 'Induction', 'PAC', 'Referral ',\n",
       "       'Ability to pay for referral services/products',\n",
       "       'Reason for not referring', 'Reason for referral',\n",
       "       'Referred to on-the-ground org', 'Referred to direct provider',\n",
       "       'ageofpregnancy'],\n",
       "      dtype='object')"
      ]
     },
     "execution_count": 44,
     "metadata": {},
     "output_type": "execute_result"
    }
   ],
   "source": [
    "df1.columns"
   ]
  },
  {
   "cell_type": "code",
   "execution_count": 45,
   "id": "ec48a02d",
   "metadata": {},
   "outputs": [
    {
     "data": {
      "image/png": "[encoded data removed]",
      "text/plain": [
       "<Figure size 864x576 with 1 Axes>"
      ]
     },
     "metadata": {
      "needs_background": "light"
     },
     "output_type": "display_data"
    }
   ],
   "source": [
    "ax = df1[\"Status\"].value_counts().plot(kind=\"bar\", color=\"pink\", figsize=(12, 8) )\n",
    "plt.ylabel(\"Count of Customers\", size=12)\n",
    "plt.xlabel(\"Status of Communication\", size=12)\n",
    "plt.title(\"Count of Customers Across Different Status of Communication\", size=14)\n",
    "plt.xticks(rotation = 15, ha=\"right\")\n",
    "ax.bar_label(ax.containers[0], label_type='edge')\n",
    "plt.savefig(\"status.jpg\")"
   ]
  },
  {
   "cell_type": "markdown",
   "id": "6c8abce7",
   "metadata": {},
   "source": [
    "This shows that the company is working well to resolve the patients"
   ]
  },
  {
   "cell_type": "code",
   "execution_count": 46,
   "id": "af17ab71",
   "metadata": {},
   "outputs": [
    {
     "data": {
      "image/png": "[encoded data removed]",
      "text/plain": [
       "<Figure size 864x576 with 1 Axes>"
      ]
     },
     "metadata": {
      "needs_background": "light"
     },
     "output_type": "display_data"
    }
   ],
   "source": [
    "ax = df1[\"Agent\"].value_counts().plot(kind=\"bar\", figsize=(12, 8))\n",
    "plt.ylabel(\"Count of Customers\", size=12)\n",
    "plt.xlabel(\"Agents involved in Counseling\", size=12)\n",
    "plt.title(\"Count of Customers Handled by Different Agents\", size=14)\n",
    "plt.xticks(rotation = 15, ha=\"right\")\n",
    "ax.bar_label(ax.containers[0], label_type='edge')\n",
    "plt.savefig(\"agents.jpg\")"
   ]
  },
  {
   "cell_type": "markdown",
   "id": "22ec107e",
   "metadata": {},
   "source": [
    "Most customers are not handled by actual agents. Perhaps since most prefer to reach out via chats, they interact with automated chat bots\n",
    "rather than actual agents."
   ]
  },
  {
   "cell_type": "code",
   "execution_count": 47,
   "id": "ffab1665",
   "metadata": {},
   "outputs": [
    {
     "data": {
      "image/png": "[encoded data removed]",
      "text/plain": [
       "<Figure size 864x576 with 1 Axes>"
      ]
     },
     "metadata": {
      "needs_background": "light"
     },
     "output_type": "display_data"
    }
   ],
   "source": [
    "ax = df1[\"Group\"].value_counts().plot(kind=\"bar\")\n",
    "plt.ylabel(\"Count of Customers\", size=12)\n",
    "plt.xlabel(\"Language Groups for Customers\", size=12)\n",
    "plt.title(\"Count of Customers Across Language Groups\", size=14)\n",
    "plt.xticks(rotation = 15, ha=\"right\")\n",
    "ax.bar_label(ax.containers[0], label_type='edge')\n",
    "plt.savefig(\"languagegroup.jpg\")"
   ]
  },
  {
   "cell_type": "markdown",
   "id": "5c4b00b3",
   "metadata": {},
   "source": [
    "Most of the customers speak Spanish. Therefore, the company can ensure a multilingual website, multilingual counselors and avenues\n",
    "of communication to ensure effective communication."
   ]
  },
  {
   "cell_type": "code",
   "execution_count": 48,
   "id": "d62ae52a",
   "metadata": {},
   "outputs": [
    {
     "data": {
      "image/png": "[encoded data removed]",
      "text/plain": [
       "<Figure size 1296x576 with 1 Axes>"
      ]
     },
     "metadata": {
      "needs_background": "light"
     },
     "output_type": "display_data"
    }
   ],
   "source": [
    "top_city = (df1.loc[df1['City'] != \"not_indicated\", 'City']).value_counts().sort_values(ascending=False).head(10)\n",
    "ax = top_city.plot(kind='bar', color = 'pink', figsize=(18,8), fontsize=13)\n",
    "plt.xlabel(\"Top Cities\", size=14)\n",
    "plt.ylabel(\"Count of Visits\", size=14)\n",
    "plt.title(\"Top Cities According to Website Visits\", size=14)\n",
    "\n",
    "plt.xticks(size=12, rotation = 15, ha=\"right\")\n",
    "\n",
    "ax.bar_label(ax.containers[0], label_type='edge')\n",
    "\n",
    "plt.savefig(\"cities.jpg\")"
   ]
  },
  {
   "cell_type": "markdown",
   "id": "bb536d55",
   "metadata": {},
   "source": [
    "Top 5 cities with highest number of individuals who have accessed the website are Lima, Estado de Mexico, Puebla, Accra and Nairobi.\n",
    "This explains why the two most spoken languages are Spanish and English.\n"
   ]
  },
  {
   "cell_type": "code",
   "execution_count": 49,
   "id": "1335b224",
   "metadata": {},
   "outputs": [
    {
     "data": {
      "image/png": "[encoded data removed]",
      "text/plain": [
       "<Figure size 1296x720 with 1 Axes>"
      ]
     },
     "metadata": {
      "needs_background": "light"
     },
     "output_type": "display_data"
    }
   ],
   "source": [
    "top_reasons = (df1.loc[df1['Main reason for contact'] != \"not_indicated\", 'Main reason for contact']).value_counts().sort_values(ascending=False).head(10)\n",
    "\n",
    "ax = top_reasons.plot(kind='barh', figsize=(18,10), fontsize=13)\n",
    "plt.ylabel(\"Reasons for Establishing Contact\", size=14)\n",
    "plt.xlabel(\"Count of Reasons\", size=14)\n",
    "plt.title(\"Top Reasons for Establishing Contact with Counselors on Website\", size=16)\n",
    "\n",
    "# plt.xticks(size=12, rotation = 15, ha=\"right\")\n",
    "\n",
    "# for bar in bars:\n",
    "#     height = bar.get_height()\n",
    "#     ax.text(bar.get_x() + bar.get_width()/2, \"{:.1}\".formatheight/100), ha = \"center\", va=\"bottom\")\n",
    "\n",
    "plt.savefig(\"Reason.jpg\")"
   ]
  },
  {
   "cell_type": "code",
   "execution_count": 50,
   "id": "e096050c",
   "metadata": {},
   "outputs": [
    {
     "data": {
      "image/png": "[encoded data removed]",
      "text/plain": [
       "<Figure size 1296x720 with 1 Axes>"
      ]
     },
     "metadata": {
      "needs_background": "light"
     },
     "output_type": "display_data"
    }
   ],
   "source": [
    "top_reasonsR = (df1.loc[df1['Reason for referral'] != \"not_indicated\", 'Reason for referral']).value_counts().sort_values(ascending=False).head(10)\n",
    "\n",
    "\n",
    "ax = top_reasonsR.plot(kind='bar', figsize=(18,10), fontsize=13, color=\"pink\")\n",
    "plt.xlabel(\"Reasons for Referral\", size=14)\n",
    "plt.ylabel(\"Count of Reasons\", size=14)\n",
    "plt.title(\"Top Reasons for Referring Individuals\", size=14)\n",
    "\n",
    "plt.xticks(size=12, rotation = 15, ha=\"right\")\n",
    "plt.savefig(\"ReferralReason.jpg\")"
   ]
  },
  {
   "cell_type": "code",
   "execution_count": 51,
   "id": "101c526d",
   "metadata": {},
   "outputs": [
    {
     "data": {
      "image/png": "[encoded data removed]",
      "text/plain": [
       "<Figure size 1296x720 with 1 Axes>"
      ]
     },
     "metadata": {
      "needs_background": "light"
     },
     "output_type": "display_data"
    }
   ],
   "source": [
    "top_reasonsN = (df1.loc[df1['Reason for not referring'] != \"not_indicated\", 'Reason for not referring']).value_counts().sort_values(ascending=False).head(10)\n",
    "\n",
    "\n",
    "ax = top_reasonsN.plot(kind='bar', figsize=(18,10), fontsize=13)\n",
    "plt.xlabel(\"Reasons for not Referring Individuals\", size=14)\n",
    "plt.ylabel(\"Count of Reasons\", size=14)\n",
    "plt.title(\"Top Reasons for not Referring Individuals\", size=14)\n",
    "\n",
    "plt.xticks(size=12, rotation = 15, ha=\"right\")\n",
    "\n",
    "# ax.bar_label(ax.containers[0], label_type='edge')\n",
    "\n",
    "plt.savefig(\"notReferralReason.jpg\")"
   ]
  },
  {
   "cell_type": "code",
   "execution_count": 52,
   "id": "7f0e1b29",
   "metadata": {},
   "outputs": [
    {
     "data": {
      "image/png": "[encoded data removed]",
      "text/plain": [
       "<Figure size 1440x864 with 1 Axes>"
      ]
     },
     "metadata": {
      "needs_background": "light"
     },
     "output_type": "display_data"
    }
   ],
   "source": [
    "plt.figure(figsize=[20,12])\n",
    "ax = sns.countplot(x=\"Group\", hue=\"Referral \", data=df1, palette='pastel')\n",
    "plt.title(\"Different Language Groups and Referral Status\", size=18)\n",
    "plt.xticks(size=16)\n",
    "plt.yticks(size=16)\n",
    "plt.xlabel(\"Language Group\", size=14)\n",
    "plt.ylabel(\"Count of Individuals\", size=14)\n",
    "plt.savefig(\"groups and referral status.jpg\")"
   ]
  },
  {
   "cell_type": "code",
   "execution_count": 53,
   "id": "a9002a83",
   "metadata": {},
   "outputs": [
    {
     "data": {
      "image/png": "[encoded data removed]",
      "text/plain": [
       "<Figure size 1440x864 with 1 Axes>"
      ]
     },
     "metadata": {
      "needs_background": "light"
     },
     "output_type": "display_data"
    }
   ],
   "source": [
    "plt.figure(figsize=[20,12])\n",
    "ax = sns.countplot(x= 'Group', hue=\"Source\", data=df1, palette='pastel')\n",
    "plt.title(\"Sources of Contact Across Different Language Groups\", size=18)\n",
    "plt.xticks(size=16)\n",
    "plt.yticks(size=16)\n",
    "plt.xlabel(\"Groups\", size=14)\n",
    "plt.ylabel(\"Count of Individuals\", size=14)\n",
    "plt.savefig(\"groups and modes of communication.jpg\")"
   ]
  },
  {
   "cell_type": "code",
   "execution_count": 54,
   "id": "8c07320f",
   "metadata": {},
   "outputs": [
    {
     "data": {
      "text/plain": [
       "Lima                16\n",
       "Estado de México    12\n",
       "Puebla               7\n",
       "Ciudad de México     6\n",
       "Accra                6\n",
       "Nairobi              6\n",
       "Dakar                5\n",
       "São Paulo            5\n",
       "Nuevo León           4\n",
       "La Paz               4\n",
       "Name: City, dtype: int64"
      ]
     },
     "execution_count": 54,
     "metadata": {},
     "output_type": "execute_result"
    }
   ],
   "source": [
    "top_city = (df1.loc[df1['City'] != \"not_indicated\", 'City']).value_counts().sort_values(ascending=False).head(10)\n",
    "top_city"
   ]
  },
  {
   "cell_type": "markdown",
   "id": "d1d02db1",
   "metadata": {},
   "source": [
    "Most customers prefer to communicate via chat than via email. Perhaps chat platforms are more easily available to them compared\n",
    "to email platforms. Chat platforms can include automated bots, live chats with agents or through Whatsapp and Telegram platforms."
   ]
  },
  {
   "cell_type": "code",
   "execution_count": 55,
   "id": "896f7ba2",
   "metadata": {},
   "outputs": [],
   "source": [
    "# converting string time column into a float\n",
    "\n",
    "def convert_to_hours(duration) :\n",
    "    hours, minutes, seconds = duration.split(\":\")\n",
    "    return float(hours) + float(minutes)/60 + float(seconds)/3600\n"
   ]
  },
  {
   "cell_type": "code",
   "execution_count": 56,
   "id": "48743dd5",
   "metadata": {},
   "outputs": [],
   "source": [
    "df1[\"Resolution time (in hrs)\"] = df1[\"Resolution time (in hrs)\"].apply(convert_to_hours)"
   ]
  },
  {
   "cell_type": "code",
   "execution_count": 57,
   "id": "b110e1dc",
   "metadata": {},
   "outputs": [
    {
     "data": {
      "text/html": [
       "<div>\n",
       "<style scoped>\n",
       "    .dataframe tbody tr th:only-of-type {\n",
       "        vertical-align: middle;\n",
       "    }\n",
       "\n",
       "    .dataframe tbody tr th {\n",
       "        vertical-align: top;\n",
       "    }\n",
       "\n",
       "    .dataframe thead th {\n",
       "        text-align: right;\n",
       "    }\n",
       "</style>\n",
       "<table border=\"1\" class=\"dataframe\">\n",
       "  <thead>\n",
       "    <tr style=\"text-align: right;\">\n",
       "      <th></th>\n",
       "      <th>Resolution time (in hrs)</th>\n",
       "    </tr>\n",
       "    <tr>\n",
       "      <th>City</th>\n",
       "      <th></th>\n",
       "    </tr>\n",
       "  </thead>\n",
       "  <tbody>\n",
       "    <tr>\n",
       "      <th>Estado de Mexico</th>\n",
       "      <td>18.000000</td>\n",
       "    </tr>\n",
       "    <tr>\n",
       "      <th>not_indicated</th>\n",
       "      <td>15.881886</td>\n",
       "    </tr>\n",
       "    <tr>\n",
       "      <th>Delta state Asaba</th>\n",
       "      <td>14.230278</td>\n",
       "    </tr>\n",
       "    <tr>\n",
       "      <th>Nairobi</th>\n",
       "      <td>13.500000</td>\n",
       "    </tr>\n",
       "    <tr>\n",
       "      <th>Kentucky</th>\n",
       "      <td>12.203333</td>\n",
       "    </tr>\n",
       "    <tr>\n",
       "      <th>Managua</th>\n",
       "      <td>11.953611</td>\n",
       "    </tr>\n",
       "    <tr>\n",
       "      <th>Jakarta</th>\n",
       "      <td>6.992778</td>\n",
       "    </tr>\n",
       "    <tr>\n",
       "      <th>Manilla</th>\n",
       "      <td>6.965000</td>\n",
       "    </tr>\n",
       "    <tr>\n",
       "      <th>nansana</th>\n",
       "      <td>6.826944</td>\n",
       "    </tr>\n",
       "    <tr>\n",
       "      <th>Zacatecas</th>\n",
       "      <td>4.718889</td>\n",
       "    </tr>\n",
       "  </tbody>\n",
       "</table>\n",
       "</div>"
      ],
      "text/plain": [
       "                   Resolution time (in hrs)\n",
       "City                                       \n",
       "Estado de Mexico                  18.000000\n",
       "not_indicated                     15.881886\n",
       "Delta state Asaba                 14.230278\n",
       "Nairobi                           13.500000\n",
       "Kentucky                          12.203333\n",
       "Managua                           11.953611\n",
       "Jakarta                            6.992778\n",
       "Manilla                            6.965000\n",
       "nansana                            6.826944\n",
       "Zacatecas                          4.718889"
      ]
     },
     "execution_count": 57,
     "metadata": {},
     "output_type": "execute_result"
    }
   ],
   "source": [
    "top_time_sessions = pd.DataFrame(df1.groupby(\"City\")[\"Resolution time (in hrs)\"].mean().sort_values(ascending=False).head(10))\n",
    "top_time_sessions"
   ]
  },
  {
   "cell_type": "code",
   "execution_count": 58,
   "id": "c0dd8aa8",
   "metadata": {},
   "outputs": [
    {
     "data": {
      "image/png": "[encoded data removed]",
      "text/plain": [
       "<Figure size 864x576 with 1 Axes>"
      ]
     },
     "metadata": {
      "needs_background": "light"
     },
     "output_type": "display_data"
    }
   ],
   "source": [
    "ax = top_time_sessions.plot(kind='bar', figsize=(12,8), fontsize=13);\n",
    "ax.set_alpha(0.8)\n",
    "\n",
    "ax.set_title(\"Ten Cities with Highest Average Resolution Time in Hours \", fontsize=18)\n",
    "ax.set_ylabel(\"Average Resolution Time in Hours\", fontsize=16);\n",
    "ax.set_xlabel(\"Top Ten Cities\", fontsize=16)\n",
    "plt.xticks(fontsize= 14)\n",
    "plt.savefig(\"cities and average resolution time.jpg\")\n",
    "plt.xticks(size=12, rotation = 15, ha=\"right\")\n",
    "ax.bar_label(ax.containers[0], label_type='edge')\n",
    "plt.show()"
   ]
  },
  {
   "cell_type": "markdown",
   "id": "ac1e7b9c",
   "metadata": {},
   "source": [
    "Estado de Mexico, Delta State Asaba and Nairobi seem to be the cities struggling with low response time."
   ]
  },
  {
   "cell_type": "code",
   "execution_count": 59,
   "id": "c6c9a152",
   "metadata": {},
   "outputs": [
    {
     "data": {
      "image/png": "[encoded data removed]",
      "text/plain": [
       "<Figure size 864x720 with 1 Axes>"
      ]
     },
     "metadata": {
      "needs_background": "light"
     },
     "output_type": "display_data"
    }
   ],
   "source": [
    "plt.figure(figsize=[12,10])\n",
    "ax = sns.countplot(x=\"Month\", hue=\"Referral \", data=df1, palette='muted')\n",
    "plt.title(\"Referral Status Across Four months in 2022\", size=18)\n",
    "plt.xticks(size=16)\n",
    "plt.yticks(size=16)\n",
    "plt.xlabel(\"Months\", size=14)\n",
    "plt.ylabel(\"Count of Referral Status\", size=14)\n",
    "plt.savefig(\"x.jpg\")"
   ]
  },
  {
   "cell_type": "markdown",
   "id": "f6e1a2fc",
   "metadata": {},
   "source": [
    "Most people were referred in October and December"
   ]
  },
  {
   "cell_type": "code",
   "execution_count": 60,
   "id": "9b84dcae",
   "metadata": {},
   "outputs": [],
   "source": [
    "# df1[\"PAC\"] = df1[\"PAC\"].map({\"false\":0, \"true\": 1})\n",
    "# df1[\"PAC\"].value_counts()"
   ]
  },
  {
   "cell_type": "code",
   "execution_count": 61,
   "id": "4fcff5ef",
   "metadata": {},
   "outputs": [
    {
     "data": {
      "image/png": "[encoded data removed]",
      "text/plain": [
       "<Figure size 1440x864 with 1 Axes>"
      ]
     },
     "metadata": {
      "needs_background": "light"
     },
     "output_type": "display_data"
    }
   ],
   "source": [
    "plt.figure(figsize=[20,12])\n",
    "ax = sns.countplot(x=\"Status\", hue=\"PAC\", data=df1, palette='pastel')\n",
    "plt.title(\"Different Language Groups and Referral Status\", size=18)\n",
    "plt.xticks(size=16)\n",
    "plt.yticks(size=16)\n",
    "plt.xlabel(\"Language Group\", size=14)\n",
    "plt.ylabel(\"Count of Individuals\", size=14)\n",
    "plt.xticks(size=12, rotation = 15, ha=\"right\")\n",
    "plt.savefig(\"groups and referral status.jpg\")"
   ]
  },
  {
   "cell_type": "code",
   "execution_count": 62,
   "id": "e747c001",
   "metadata": {},
   "outputs": [
    {
     "data": {
      "text/html": [
       "        <script type=\"text/javascript\">\n",
       "        window.PlotlyConfig = {MathJaxConfig: 'local'};\n",
       "        if (window.MathJax) {MathJax.Hub.Config({SVG: {font: \"STIX-Web\"}});}\n",
       "        if (typeof require !== 'undefined') {\n",
       "        require.undef(\"plotly\");\n",
       "        requirejs.config({\n",
       "            paths: {\n",
       "                'plotly': ['https://cdn.plot.ly/plotly-2.9.0.min']\n",
       "            }\n",
       "        });\n",
       "        require(['plotly'], function(Plotly) {\n",
       "            window._Plotly = Plotly;\n",
       "        });\n",
       "        }\n",
       "        </script>\n",
       "        "
      ]
     },
     "metadata": {},
     "output_type": "display_data"
    }
   ],
   "source": [
    "# drawing geographical map\n",
    "\n",
    "init_notebook_mode(connected=True)\n"
   ]
  },
  {
   "cell_type": "code",
   "execution_count": 63,
   "id": "a2bbde7e",
   "metadata": {},
   "outputs": [],
   "source": [
    "data = dict(type=\"choropleth\", locations = [\"India\", \"Brazil\", \"Philippines\", \"Mexico\", \"Liberia\", \"Kenya\", \"USA-states\", \"Ghana\",\n",
    "                                            \"Columbia\", \"Nigeria\"],\n",
    "                                            locationmode = \"country names\",\n",
    "                                            colorscale = \"Viridis\",\n",
    "                                            text = [\"in : 172126\", \"br : 106594\", \"ph: 99889\", \"mx : 90855\", \"lr : 60141\", \"ke:57182\", \n",
    "                                                    \"us:53235\", \"gh:39207\", \"co: 39142\", \"ng: 37293\"],\n",
    "                                            z = [1.0, 2.0, 3.0, 4.0, 5.0, 6.0, 7.0, 8.0, 9.0, 10.0],\n",
    "                                            colorbar = {\"title\" : \"countries-colors\"})\n",
    "                                            "
   ]
  },
  {
   "cell_type": "code",
   "execution_count": 64,
   "id": "d6b89d3f",
   "metadata": {},
   "outputs": [],
   "source": [
    "layout = dict(geo={\"scope\": \"world\"})"
   ]
  },
  {
   "cell_type": "code",
   "execution_count": 65,
   "id": "30367904",
   "metadata": {},
   "outputs": [],
   "source": [
    "chmap = go.Figure(data = [data], layout=layout)"
   ]
  },
  {
   "cell_type": "code",
   "execution_count": 66,
   "id": "cddac74d",
   "metadata": {},
   "outputs": [
    {
     "data": {
      "application/vnd.plotly.v1+json": {
       "config": {
        "linkText": "Export to plot.ly",
        "plotlyServerURL": "https://plot.ly",
        "showLink": false
       },
       "data": [
        {
         "colorbar": {
          "title": {
           "text": "countries-colors"
          }
         },
         "colorscale": [
          [
           0,
           "#440154"
          ],
          [
           0.1111111111111111,
           "#482878"
          ],
          [
           0.2222222222222222,
           "#3e4989"
          ],
          [
           0.3333333333333333,
           "#31688e"
          ],
          [
           0.4444444444444444,
           "#26828e"
          ],
          [
           0.5555555555555556,
           "#1f9e89"
          ],
          [
           0.6666666666666666,
           "#35b779"
          ],
          [
           0.7777777777777778,
           "#6ece58"
          ],
          [
           0.8888888888888888,
           "#b5de2b"
          ],
          [
           1,
           "#fde725"
          ]
         ],
         "locationmode": "country names",
         "locations": [
          "India",
          "Brazil",
          "Philippines",
          "Mexico",
          "Liberia",
          "Kenya",
          "USA-states",
          "Ghana",
          "Columbia",
          "Nigeria"
         ],
         "text": [
          "in : 172126",
          "br : 106594",
          "ph: 99889",
          "mx : 90855",
          "lr : 60141",
          "ke:57182",
          "us:53235",
          "gh:39207",
          "co: 39142",
          "ng: 37293"
         ],
         "type": "choropleth",
         "z": [
          1,
          2,
          3,
          4,
          5,
          6,
          7,
          8,
          9,
          10
         ]
        }
       ],
       "layout": {
        "geo": {
         "scope": "world"
        },
        "template": {
         "data": {
          "bar": [
           {
            "error_x": {
             "color": "#2a3f5f"
            },
            "error_y": {
             "color": "#2a3f5f"
            },
            "marker": {
             "line": {
              "color": "#E5ECF6",
              "width": 0.5
             },
             "pattern": {
              "fillmode": "overlay",
              "size": 10,
              "solidity": 0.2
             }
            },
            "type": "bar"
           }
          ],
          "barpolar": [
           {
            "marker": {
             "line": {
              "color": "#E5ECF6",
              "width": 0.5
             },
             "pattern": {
              "fillmode": "overlay",
              "size": 10,
              "solidity": 0.2
             }
            },
            "type": "barpolar"
           }
          ],
          "carpet": [
           {
            "aaxis": {
             "endlinecolor": "#2a3f5f",
             "gridcolor": "white",
             "linecolor": "white",
             "minorgridcolor": "white",
             "startlinecolor": "#2a3f5f"
            },
            "baxis": {
             "endlinecolor": "#2a3f5f",
             "gridcolor": "white",
             "linecolor": "white",
             "minorgridcolor": "white",
             "startlinecolor": "#2a3f5f"
            },
            "type": "carpet"
           }
          ],
          "choropleth": [
           {
            "colorbar": {
             "outlinewidth": 0,
             "ticks": ""
            },
            "type": "choropleth"
           }
          ],
          "contour": [
           {
            "colorbar": {
             "outlinewidth": 0,
             "ticks": ""
            },
            "colorscale": [
             [
              0,
              "#0d0887"
             ],
             [
              0.1111111111111111,
              "#46039f"
             ],
             [
              0.2222222222222222,
              "#7201a8"
             ],
             [
              0.3333333333333333,
              "#9c179e"
             ],
             [
              0.4444444444444444,
              "#bd3786"
             ],
             [
              0.5555555555555556,
              "#d8576b"
             ],
             [
              0.6666666666666666,
              "#ed7953"
             ],
             [
              0.7777777777777778,
              "#fb9f3a"
             ],
             [
              0.8888888888888888,
              "#fdca26"
             ],
             [
              1,
              "#f0f921"
             ]
            ],
            "type": "contour"
           }
          ],
          "contourcarpet": [
           {
            "colorbar": {
             "outlinewidth": 0,
             "ticks": ""
            },
            "type": "contourcarpet"
           }
          ],
          "heatmap": [
           {
            "colorbar": {
             "outlinewidth": 0,
             "ticks": ""
            },
            "colorscale": [
             [
              0,
              "#0d0887"
             ],
             [
              0.1111111111111111,
              "#46039f"
             ],
             [
              0.2222222222222222,
              "#7201a8"
             ],
             [
              0.3333333333333333,
              "#9c179e"
             ],
             [
              0.4444444444444444,
              "#bd3786"
             ],
             [
              0.5555555555555556,
              "#d8576b"
             ],
             [
              0.6666666666666666,
              "#ed7953"
             ],
             [
              0.7777777777777778,
              "#fb9f3a"
             ],
             [
              0.8888888888888888,
              "#fdca26"
             ],
             [
              1,
              "#f0f921"
             ]
            ],
            "type": "heatmap"
           }
          ],
          "heatmapgl": [
           {
            "colorbar": {
             "outlinewidth": 0,
             "ticks": ""
            },
            "colorscale": [
             [
              0,
              "#0d0887"
             ],
             [
              0.1111111111111111,
              "#46039f"
             ],
             [
              0.2222222222222222,
              "#7201a8"
             ],
             [
              0.3333333333333333,
              "#9c179e"
             ],
             [
              0.4444444444444444,
              "#bd3786"
             ],
             [
              0.5555555555555556,
              "#d8576b"
             ],
             [
              0.6666666666666666,
              "#ed7953"
             ],
             [
              0.7777777777777778,
              "#fb9f3a"
             ],
             [
              0.8888888888888888,
              "#fdca26"
             ],
             [
              1,
              "#f0f921"
             ]
            ],
            "type": "heatmapgl"
           }
          ],
          "histogram": [
           {
            "marker": {
             "pattern": {
              "fillmode": "overlay",
              "size": 10,
              "solidity": 0.2
             }
            },
            "type": "histogram"
           }
          ],
          "histogram2d": [
           {
            "colorbar": {
             "outlinewidth": 0,
             "ticks": ""
            },
            "colorscale": [
             [
              0,
              "#0d0887"
             ],
             [
              0.1111111111111111,
              "#46039f"
             ],
             [
              0.2222222222222222,
              "#7201a8"
             ],
             [
              0.3333333333333333,
              "#9c179e"
             ],
             [
              0.4444444444444444,
              "#bd3786"
             ],
             [
              0.5555555555555556,
              "#d8576b"
             ],
             [
              0.6666666666666666,
              "#ed7953"
             ],
             [
              0.7777777777777778,
              "#fb9f3a"
             ],
             [
              0.8888888888888888,
              "#fdca26"
             ],
             [
              1,
              "#f0f921"
             ]
            ],
            "type": "histogram2d"
           }
          ],
          "histogram2dcontour": [
           {
            "colorbar": {
             "outlinewidth": 0,
             "ticks": ""
            },
            "colorscale": [
             [
              0,
              "#0d0887"
             ],
             [
              0.1111111111111111,
              "#46039f"
             ],
             [
              0.2222222222222222,
              "#7201a8"
             ],
             [
              0.3333333333333333,
              "#9c179e"
             ],
             [
              0.4444444444444444,
              "#bd3786"
             ],
             [
              0.5555555555555556,
              "#d8576b"
             ],
             [
              0.6666666666666666,
              "#ed7953"
             ],
             [
              0.7777777777777778,
              "#fb9f3a"
             ],
             [
              0.8888888888888888,
              "#fdca26"
             ],
             [
              1,
              "#f0f921"
             ]
            ],
            "type": "histogram2dcontour"
           }
          ],
          "mesh3d": [
           {
            "colorbar": {
             "outlinewidth": 0,
             "ticks": ""
            },
            "type": "mesh3d"
           }
          ],
          "parcoords": [
           {
            "line": {
             "colorbar": {
              "outlinewidth": 0,
              "ticks": ""
             }
            },
            "type": "parcoords"
           }
          ],
          "pie": [
           {
            "automargin": true,
            "type": "pie"
           }
          ],
          "scatter": [
           {
            "marker": {
             "colorbar": {
              "outlinewidth": 0,
              "ticks": ""
             }
            },
            "type": "scatter"
           }
          ],
          "scatter3d": [
           {
            "line": {
             "colorbar": {
              "outlinewidth": 0,
              "ticks": ""
             }
            },
            "marker": {
             "colorbar": {
              "outlinewidth": 0,
              "ticks": ""
             }
            },
            "type": "scatter3d"
           }
          ],
          "scattercarpet": [
           {
            "marker": {
             "colorbar": {
              "outlinewidth": 0,
              "ticks": ""
             }
            },
            "type": "scattercarpet"
           }
          ],
          "scattergeo": [
           {
            "marker": {
             "colorbar": {
              "outlinewidth": 0,
              "ticks": ""
             }
            },
            "type": "scattergeo"
           }
          ],
          "scattergl": [
           {
            "marker": {
             "colorbar": {
              "outlinewidth": 0,
              "ticks": ""
             }
            },
            "type": "scattergl"
           }
          ],
          "scattermapbox": [
           {
            "marker": {
             "colorbar": {
              "outlinewidth": 0,
              "ticks": ""
             }
            },
            "type": "scattermapbox"
           }
          ],
          "scatterpolar": [
           {
            "marker": {
             "colorbar": {
              "outlinewidth": 0,
              "ticks": ""
             }
            },
            "type": "scatterpolar"
           }
          ],
          "scatterpolargl": [
           {
            "marker": {
             "colorbar": {
              "outlinewidth": 0,
              "ticks": ""
             }
            },
            "type": "scatterpolargl"
           }
          ],
          "scatterternary": [
           {
            "marker": {
             "colorbar": {
              "outlinewidth": 0,
              "ticks": ""
             }
            },
            "type": "scatterternary"
           }
          ],
          "surface": [
           {
            "colorbar": {
             "outlinewidth": 0,
             "ticks": ""
            },
            "colorscale": [
             [
              0,
              "#0d0887"
             ],
             [
              0.1111111111111111,
              "#46039f"
             ],
             [
              0.2222222222222222,
              "#7201a8"
             ],
             [
              0.3333333333333333,
              "#9c179e"
             ],
             [
              0.4444444444444444,
              "#bd3786"
             ],
             [
              0.5555555555555556,
              "#d8576b"
             ],
             [
              0.6666666666666666,
              "#ed7953"
             ],
             [
              0.7777777777777778,
              "#fb9f3a"
             ],
             [
              0.8888888888888888,
              "#fdca26"
             ],
             [
              1,
              "#f0f921"
             ]
            ],
            "type": "surface"
           }
          ],
          "table": [
           {
            "cells": {
             "fill": {
              "color": "#EBF0F8"
             },
             "line": {
              "color": "white"
             }
            },
            "header": {
             "fill": {
              "color": "#C8D4E3"
             },
             "line": {
              "color": "white"
             }
            },
            "type": "table"
           }
          ]
         },
         "layout": {
          "annotationdefaults": {
           "arrowcolor": "#2a3f5f",
           "arrowhead": 0,
           "arrowwidth": 1
          },
          "autotypenumbers": "strict",
          "coloraxis": {
           "colorbar": {
            "outlinewidth": 0,
            "ticks": ""
           }
          },
          "colorscale": {
           "diverging": [
            [
             0,
             "#8e0152"
            ],
            [
             0.1,
             "#c51b7d"
            ],
            [
             0.2,
             "#de77ae"
            ],
            [
             0.3,
             "#f1b6da"
            ],
            [
             0.4,
             "#fde0ef"
            ],
            [
             0.5,
             "#f7f7f7"
            ],
            [
             0.6,
             "#e6f5d0"
            ],
            [
             0.7,
             "#b8e186"
            ],
            [
             0.8,
             "#7fbc41"
            ],
            [
             0.9,
             "#4d9221"
            ],
            [
             1,
             "#276419"
            ]
           ],
           "sequential": [
            [
             0,
             "#0d0887"
            ],
            [
             0.1111111111111111,
             "#46039f"
            ],
            [
             0.2222222222222222,
             "#7201a8"
            ],
            [
             0.3333333333333333,
             "#9c179e"
            ],
            [
             0.4444444444444444,
             "#bd3786"
            ],
            [
             0.5555555555555556,
             "#d8576b"
            ],
            [
             0.6666666666666666,
             "#ed7953"
            ],
            [
             0.7777777777777778,
             "#fb9f3a"
            ],
            [
             0.8888888888888888,
             "#fdca26"
            ],
            [
             1,
             "#f0f921"
            ]
           ],
           "sequentialminus": [
            [
             0,
             "#0d0887"
            ],
            [
             0.1111111111111111,
             "#46039f"
            ],
            [
             0.2222222222222222,
             "#7201a8"
            ],
            [
             0.3333333333333333,
             "#9c179e"
            ],
            [
             0.4444444444444444,
             "#bd3786"
            ],
            [
             0.5555555555555556,
             "#d8576b"
            ],
            [
             0.6666666666666666,
             "#ed7953"
            ],
            [
             0.7777777777777778,
             "#fb9f3a"
            ],
            [
             0.8888888888888888,
             "#fdca26"
            ],
            [
             1,
             "#f0f921"
            ]
           ]
          },
          "colorway": [
           "#636efa",
           "#EF553B",
           "#00cc96",
           "#ab63fa",
           "#FFA15A",
           "#19d3f3",
           "#FF6692",
           "#B6E880",
           "#FF97FF",
           "#FECB52"
          ],
          "font": {
           "color": "#2a3f5f"
          },
          "geo": {
           "bgcolor": "white",
           "lakecolor": "white",
           "landcolor": "#E5ECF6",
           "showlakes": true,
           "showland": true,
           "subunitcolor": "white"
          },
          "hoverlabel": {
           "align": "left"
          },
          "hovermode": "closest",
          "mapbox": {
           "style": "light"
          },
          "paper_bgcolor": "white",
          "plot_bgcolor": "#E5ECF6",
          "polar": {
           "angularaxis": {
            "gridcolor": "white",
            "linecolor": "white",
            "ticks": ""
           },
           "bgcolor": "#E5ECF6",
           "radialaxis": {
            "gridcolor": "white",
            "linecolor": "white",
            "ticks": ""
           }
          },
          "scene": {
           "xaxis": {
            "backgroundcolor": "#E5ECF6",
            "gridcolor": "white",
            "gridwidth": 2,
            "linecolor": "white",
            "showbackground": true,
            "ticks": "",
            "zerolinecolor": "white"
           },
           "yaxis": {
            "backgroundcolor": "#E5ECF6",
            "gridcolor": "white",
            "gridwidth": 2,
            "linecolor": "white",
            "showbackground": true,
            "ticks": "",
            "zerolinecolor": "white"
           },
           "zaxis": {
            "backgroundcolor": "#E5ECF6",
            "gridcolor": "white",
            "gridwidth": 2,
            "linecolor": "white",
            "showbackground": true,
            "ticks": "",
            "zerolinecolor": "white"
           }
          },
          "shapedefaults": {
           "line": {
            "color": "#2a3f5f"
           }
          },
          "ternary": {
           "aaxis": {
            "gridcolor": "white",
            "linecolor": "white",
            "ticks": ""
           },
           "baxis": {
            "gridcolor": "white",
            "linecolor": "white",
            "ticks": ""
           },
           "bgcolor": "#E5ECF6",
           "caxis": {
            "gridcolor": "white",
            "linecolor": "white",
            "ticks": ""
           }
          },
          "title": {
           "x": 0.05
          },
          "xaxis": {
           "automargin": true,
           "gridcolor": "white",
           "linecolor": "white",
           "ticks": "",
           "title": {
            "standoff": 15
           },
           "zerolinecolor": "white",
           "zerolinewidth": 2
          },
          "yaxis": {
           "automargin": true,
           "gridcolor": "white",
           "linecolor": "white",
           "ticks": "",
           "title": {
            "standoff": 15
           },
           "zerolinecolor": "white",
           "zerolinewidth": 2
          }
         }
        },
        "title": {
         "text": "September-December 2022 User Access by Country to Safe2Choose website"
        }
       }
      },
      "text/html": [
       "<div>                            <div id=\"a310a0fd-5666-402c-9ec8-cf30729722d4\" class=\"plotly-graph-div\" style=\"height:525px; width:100%;\"></div>            <script type=\"text/javascript\">                require([\"plotly\"], function(Plotly) {                    window.PLOTLYENV=window.PLOTLYENV || {};                                    if (document.getElementById(\"a310a0fd-5666-402c-9ec8-cf30729722d4\")) {                    Plotly.newPlot(                        \"a310a0fd-5666-402c-9ec8-cf30729722d4\",                        [{\"colorbar\":{\"title\":{\"text\":\"countries-colors\"}},\"colorscale\":[[0.0,\"#440154\"],[0.1111111111111111,\"#482878\"],[0.2222222222222222,\"#3e4989\"],[0.3333333333333333,\"#31688e\"],[0.4444444444444444,\"#26828e\"],[0.5555555555555556,\"#1f9e89\"],[0.6666666666666666,\"#35b779\"],[0.7777777777777778,\"#6ece58\"],[0.8888888888888888,\"#b5de2b\"],[1.0,\"#fde725\"]],\"locationmode\":\"country names\",\"locations\":[\"India\",\"Brazil\",\"Philippines\",\"Mexico\",\"Liberia\",\"Kenya\",\"USA-states\",\"Ghana\",\"Columbia\",\"Nigeria\"],\"text\":[\"in : 172126\",\"br : 106594\",\"ph: 99889\",\"mx : 90855\",\"lr : 60141\",\"ke:57182\",\"us:53235\",\"gh:39207\",\"co: 39142\",\"ng: 37293\"],\"z\":[1.0,2.0,3.0,4.0,5.0,6.0,7.0,8.0,9.0,10.0],\"type\":\"choropleth\"}],                        {\"geo\":{\"scope\":\"world\"},\"template\":{\"data\":{\"barpolar\":[{\"marker\":{\"line\":{\"color\":\"#E5ECF6\",\"width\":0.5},\"pattern\":{\"fillmode\":\"overlay\",\"size\":10,\"solidity\":0.2}},\"type\":\"barpolar\"}],\"bar\":[{\"error_x\":{\"color\":\"#2a3f5f\"},\"error_y\":{\"color\":\"#2a3f5f\"},\"marker\":{\"line\":{\"color\":\"#E5ECF6\",\"width\":0.5},\"pattern\":{\"fillmode\":\"overlay\",\"size\":10,\"solidity\":0.2}},\"type\":\"bar\"}],\"carpet\":[{\"aaxis\":{\"endlinecolor\":\"#2a3f5f\",\"gridcolor\":\"white\",\"linecolor\":\"white\",\"minorgridcolor\":\"white\",\"startlinecolor\":\"#2a3f5f\"},\"baxis\":{\"endlinecolor\":\"#2a3f5f\",\"gridcolor\":\"white\",\"linecolor\":\"white\",\"minorgridcolor\":\"white\",\"startlinecolor\":\"#2a3f5f\"},\"type\":\"carpet\"}],\"choropleth\":[{\"colorbar\":{\"outlinewidth\":0,\"ticks\":\"\"},\"type\":\"choropleth\"}],\"contourcarpet\":[{\"colorbar\":{\"outlinewidth\":0,\"ticks\":\"\"},\"type\":\"contourcarpet\"}],\"contour\":[{\"colorbar\":{\"outlinewidth\":0,\"ticks\":\"\"},\"colorscale\":[[0.0,\"#0d0887\"],[0.1111111111111111,\"#46039f\"],[0.2222222222222222,\"#7201a8\"],[0.3333333333333333,\"#9c179e\"],[0.4444444444444444,\"#bd3786\"],[0.5555555555555556,\"#d8576b\"],[0.6666666666666666,\"#ed7953\"],[0.7777777777777778,\"#fb9f3a\"],[0.8888888888888888,\"#fdca26\"],[1.0,\"#f0f921\"]],\"type\":\"contour\"}],\"heatmapgl\":[{\"colorbar\":{\"outlinewidth\":0,\"ticks\":\"\"},\"colorscale\":[[0.0,\"#0d0887\"],[0.1111111111111111,\"#46039f\"],[0.2222222222222222,\"#7201a8\"],[0.3333333333333333,\"#9c179e\"],[0.4444444444444444,\"#bd3786\"],[0.5555555555555556,\"#d8576b\"],[0.6666666666666666,\"#ed7953\"],[0.7777777777777778,\"#fb9f3a\"],[0.8888888888888888,\"#fdca26\"],[1.0,\"#f0f921\"]],\"type\":\"heatmapgl\"}],\"heatmap\":[{\"colorbar\":{\"outlinewidth\":0,\"ticks\":\"\"},\"colorscale\":[[0.0,\"#0d0887\"],[0.1111111111111111,\"#46039f\"],[0.2222222222222222,\"#7201a8\"],[0.3333333333333333,\"#9c179e\"],[0.4444444444444444,\"#bd3786\"],[0.5555555555555556,\"#d8576b\"],[0.6666666666666666,\"#ed7953\"],[0.7777777777777778,\"#fb9f3a\"],[0.8888888888888888,\"#fdca26\"],[1.0,\"#f0f921\"]],\"type\":\"heatmap\"}],\"histogram2dcontour\":[{\"colorbar\":{\"outlinewidth\":0,\"ticks\":\"\"},\"colorscale\":[[0.0,\"#0d0887\"],[0.1111111111111111,\"#46039f\"],[0.2222222222222222,\"#7201a8\"],[0.3333333333333333,\"#9c179e\"],[0.4444444444444444,\"#bd3786\"],[0.5555555555555556,\"#d8576b\"],[0.6666666666666666,\"#ed7953\"],[0.7777777777777778,\"#fb9f3a\"],[0.8888888888888888,\"#fdca26\"],[1.0,\"#f0f921\"]],\"type\":\"histogram2dcontour\"}],\"histogram2d\":[{\"colorbar\":{\"outlinewidth\":0,\"ticks\":\"\"},\"colorscale\":[[0.0,\"#0d0887\"],[0.1111111111111111,\"#46039f\"],[0.2222222222222222,\"#7201a8\"],[0.3333333333333333,\"#9c179e\"],[0.4444444444444444,\"#bd3786\"],[0.5555555555555556,\"#d8576b\"],[0.6666666666666666,\"#ed7953\"],[0.7777777777777778,\"#fb9f3a\"],[0.8888888888888888,\"#fdca26\"],[1.0,\"#f0f921\"]],\"type\":\"histogram2d\"}],\"histogram\":[{\"marker\":{\"pattern\":{\"fillmode\":\"overlay\",\"size\":10,\"solidity\":0.2}},\"type\":\"histogram\"}],\"mesh3d\":[{\"colorbar\":{\"outlinewidth\":0,\"ticks\":\"\"},\"type\":\"mesh3d\"}],\"parcoords\":[{\"line\":{\"colorbar\":{\"outlinewidth\":0,\"ticks\":\"\"}},\"type\":\"parcoords\"}],\"pie\":[{\"automargin\":true,\"type\":\"pie\"}],\"scatter3d\":[{\"line\":{\"colorbar\":{\"outlinewidth\":0,\"ticks\":\"\"}},\"marker\":{\"colorbar\":{\"outlinewidth\":0,\"ticks\":\"\"}},\"type\":\"scatter3d\"}],\"scattercarpet\":[{\"marker\":{\"colorbar\":{\"outlinewidth\":0,\"ticks\":\"\"}},\"type\":\"scattercarpet\"}],\"scattergeo\":[{\"marker\":{\"colorbar\":{\"outlinewidth\":0,\"ticks\":\"\"}},\"type\":\"scattergeo\"}],\"scattergl\":[{\"marker\":{\"colorbar\":{\"outlinewidth\":0,\"ticks\":\"\"}},\"type\":\"scattergl\"}],\"scattermapbox\":[{\"marker\":{\"colorbar\":{\"outlinewidth\":0,\"ticks\":\"\"}},\"type\":\"scattermapbox\"}],\"scatterpolargl\":[{\"marker\":{\"colorbar\":{\"outlinewidth\":0,\"ticks\":\"\"}},\"type\":\"scatterpolargl\"}],\"scatterpolar\":[{\"marker\":{\"colorbar\":{\"outlinewidth\":0,\"ticks\":\"\"}},\"type\":\"scatterpolar\"}],\"scatter\":[{\"marker\":{\"colorbar\":{\"outlinewidth\":0,\"ticks\":\"\"}},\"type\":\"scatter\"}],\"scatterternary\":[{\"marker\":{\"colorbar\":{\"outlinewidth\":0,\"ticks\":\"\"}},\"type\":\"scatterternary\"}],\"surface\":[{\"colorbar\":{\"outlinewidth\":0,\"ticks\":\"\"},\"colorscale\":[[0.0,\"#0d0887\"],[0.1111111111111111,\"#46039f\"],[0.2222222222222222,\"#7201a8\"],[0.3333333333333333,\"#9c179e\"],[0.4444444444444444,\"#bd3786\"],[0.5555555555555556,\"#d8576b\"],[0.6666666666666666,\"#ed7953\"],[0.7777777777777778,\"#fb9f3a\"],[0.8888888888888888,\"#fdca26\"],[1.0,\"#f0f921\"]],\"type\":\"surface\"}],\"table\":[{\"cells\":{\"fill\":{\"color\":\"#EBF0F8\"},\"line\":{\"color\":\"white\"}},\"header\":{\"fill\":{\"color\":\"#C8D4E3\"},\"line\":{\"color\":\"white\"}},\"type\":\"table\"}]},\"layout\":{\"annotationdefaults\":{\"arrowcolor\":\"#2a3f5f\",\"arrowhead\":0,\"arrowwidth\":1},\"autotypenumbers\":\"strict\",\"coloraxis\":{\"colorbar\":{\"outlinewidth\":0,\"ticks\":\"\"}},\"colorscale\":{\"diverging\":[[0,\"#8e0152\"],[0.1,\"#c51b7d\"],[0.2,\"#de77ae\"],[0.3,\"#f1b6da\"],[0.4,\"#fde0ef\"],[0.5,\"#f7f7f7\"],[0.6,\"#e6f5d0\"],[0.7,\"#b8e186\"],[0.8,\"#7fbc41\"],[0.9,\"#4d9221\"],[1,\"#276419\"]],\"sequential\":[[0.0,\"#0d0887\"],[0.1111111111111111,\"#46039f\"],[0.2222222222222222,\"#7201a8\"],[0.3333333333333333,\"#9c179e\"],[0.4444444444444444,\"#bd3786\"],[0.5555555555555556,\"#d8576b\"],[0.6666666666666666,\"#ed7953\"],[0.7777777777777778,\"#fb9f3a\"],[0.8888888888888888,\"#fdca26\"],[1.0,\"#f0f921\"]],\"sequentialminus\":[[0.0,\"#0d0887\"],[0.1111111111111111,\"#46039f\"],[0.2222222222222222,\"#7201a8\"],[0.3333333333333333,\"#9c179e\"],[0.4444444444444444,\"#bd3786\"],[0.5555555555555556,\"#d8576b\"],[0.6666666666666666,\"#ed7953\"],[0.7777777777777778,\"#fb9f3a\"],[0.8888888888888888,\"#fdca26\"],[1.0,\"#f0f921\"]]},\"colorway\":[\"#636efa\",\"#EF553B\",\"#00cc96\",\"#ab63fa\",\"#FFA15A\",\"#19d3f3\",\"#FF6692\",\"#B6E880\",\"#FF97FF\",\"#FECB52\"],\"font\":{\"color\":\"#2a3f5f\"},\"geo\":{\"bgcolor\":\"white\",\"lakecolor\":\"white\",\"landcolor\":\"#E5ECF6\",\"showlakes\":true,\"showland\":true,\"subunitcolor\":\"white\"},\"hoverlabel\":{\"align\":\"left\"},\"hovermode\":\"closest\",\"mapbox\":{\"style\":\"light\"},\"paper_bgcolor\":\"white\",\"plot_bgcolor\":\"#E5ECF6\",\"polar\":{\"angularaxis\":{\"gridcolor\":\"white\",\"linecolor\":\"white\",\"ticks\":\"\"},\"bgcolor\":\"#E5ECF6\",\"radialaxis\":{\"gridcolor\":\"white\",\"linecolor\":\"white\",\"ticks\":\"\"}},\"scene\":{\"xaxis\":{\"backgroundcolor\":\"#E5ECF6\",\"gridcolor\":\"white\",\"gridwidth\":2,\"linecolor\":\"white\",\"showbackground\":true,\"ticks\":\"\",\"zerolinecolor\":\"white\"},\"yaxis\":{\"backgroundcolor\":\"#E5ECF6\",\"gridcolor\":\"white\",\"gridwidth\":2,\"linecolor\":\"white\",\"showbackground\":true,\"ticks\":\"\",\"zerolinecolor\":\"white\"},\"zaxis\":{\"backgroundcolor\":\"#E5ECF6\",\"gridcolor\":\"white\",\"gridwidth\":2,\"linecolor\":\"white\",\"showbackground\":true,\"ticks\":\"\",\"zerolinecolor\":\"white\"}},\"shapedefaults\":{\"line\":{\"color\":\"#2a3f5f\"}},\"ternary\":{\"aaxis\":{\"gridcolor\":\"white\",\"linecolor\":\"white\",\"ticks\":\"\"},\"baxis\":{\"gridcolor\":\"white\",\"linecolor\":\"white\",\"ticks\":\"\"},\"bgcolor\":\"#E5ECF6\",\"caxis\":{\"gridcolor\":\"white\",\"linecolor\":\"white\",\"ticks\":\"\"}},\"title\":{\"x\":0.05},\"xaxis\":{\"automargin\":true,\"gridcolor\":\"white\",\"linecolor\":\"white\",\"ticks\":\"\",\"title\":{\"standoff\":15},\"zerolinecolor\":\"white\",\"zerolinewidth\":2},\"yaxis\":{\"automargin\":true,\"gridcolor\":\"white\",\"linecolor\":\"white\",\"ticks\":\"\",\"title\":{\"standoff\":15},\"zerolinecolor\":\"white\",\"zerolinewidth\":2}}},\"title\":{\"text\":\"September-December 2022 User Access by Country to Safe2Choose website\"}},                        {\"responsive\": true}                    ).then(function(){\n",
       "                            \n",
       "var gd = document.getElementById('a310a0fd-5666-402c-9ec8-cf30729722d4');\n",
       "var x = new MutationObserver(function (mutations, observer) {{\n",
       "        var display = window.getComputedStyle(gd).display;\n",
       "        if (!display || display === 'none') {{\n",
       "            console.log([gd, 'removed!']);\n",
       "            Plotly.purge(gd);\n",
       "            observer.disconnect();\n",
       "        }}\n",
       "}});\n",
       "\n",
       "// Listen for the removal of the full notebook cells\n",
       "var notebookContainer = gd.closest('#notebook-container');\n",
       "if (notebookContainer) {{\n",
       "    x.observe(notebookContainer, {childList: true});\n",
       "}}\n",
       "\n",
       "// Listen for the clearing of the current output cell\n",
       "var outputEl = gd.closest('.output');\n",
       "if (outputEl) {{\n",
       "    x.observe(outputEl, {childList: true});\n",
       "}}\n",
       "\n",
       "                        })                };                });            </script>        </div>"
      ]
     },
     "metadata": {},
     "output_type": "display_data"
    }
   ],
   "source": [
    "chmap.update_layout (title_text = \"September-December 2022 User Access by Country to Safe2Choose website\")\n",
    "iplot(chmap)"
   ]
  },
  {
   "cell_type": "code",
   "execution_count": 67,
   "id": "07b3ab92",
   "metadata": {},
   "outputs": [],
   "source": [
    "# iplot(chmap)"
   ]
  },
  {
   "cell_type": "code",
   "execution_count": 68,
   "id": "5bd99922",
   "metadata": {},
   "outputs": [
    {
     "data": {
      "text/html": [
       "<div>\n",
       "<style scoped>\n",
       "    .dataframe tbody tr th:only-of-type {\n",
       "        vertical-align: middle;\n",
       "    }\n",
       "\n",
       "    .dataframe tbody tr th {\n",
       "        vertical-align: top;\n",
       "    }\n",
       "\n",
       "    .dataframe thead th {\n",
       "        text-align: right;\n",
       "    }\n",
       "</style>\n",
       "<table border=\"1\" class=\"dataframe\">\n",
       "  <thead>\n",
       "    <tr style=\"text-align: right;\">\n",
       "      <th></th>\n",
       "      <th>Day Index</th>\n",
       "      <th>Users</th>\n",
       "    </tr>\n",
       "  </thead>\n",
       "  <tbody>\n",
       "    <tr>\n",
       "      <th>0</th>\n",
       "      <td>2022-09-01</td>\n",
       "      <td>8232</td>\n",
       "    </tr>\n",
       "    <tr>\n",
       "      <th>1</th>\n",
       "      <td>2022-09-02</td>\n",
       "      <td>8179</td>\n",
       "    </tr>\n",
       "    <tr>\n",
       "      <th>2</th>\n",
       "      <td>2022-09-03</td>\n",
       "      <td>7755</td>\n",
       "    </tr>\n",
       "    <tr>\n",
       "      <th>3</th>\n",
       "      <td>2022-09-04</td>\n",
       "      <td>7231</td>\n",
       "    </tr>\n",
       "    <tr>\n",
       "      <th>4</th>\n",
       "      <td>2022-09-05</td>\n",
       "      <td>8112</td>\n",
       "    </tr>\n",
       "    <tr>\n",
       "      <th>...</th>\n",
       "      <td>...</td>\n",
       "      <td>...</td>\n",
       "    </tr>\n",
       "    <tr>\n",
       "      <th>117</th>\n",
       "      <td>2022-12-27</td>\n",
       "      <td>14544</td>\n",
       "    </tr>\n",
       "    <tr>\n",
       "      <th>118</th>\n",
       "      <td>2022-12-28</td>\n",
       "      <td>14944</td>\n",
       "    </tr>\n",
       "    <tr>\n",
       "      <th>119</th>\n",
       "      <td>2022-12-29</td>\n",
       "      <td>14303</td>\n",
       "    </tr>\n",
       "    <tr>\n",
       "      <th>120</th>\n",
       "      <td>2022-12-30</td>\n",
       "      <td>12793</td>\n",
       "    </tr>\n",
       "    <tr>\n",
       "      <th>121</th>\n",
       "      <td>2022-12-31</td>\n",
       "      <td>9110</td>\n",
       "    </tr>\n",
       "  </tbody>\n",
       "</table>\n",
       "<p>122 rows × 2 columns</p>\n",
       "</div>"
      ],
      "text/plain": [
       "     Day Index  Users\n",
       "0   2022-09-01   8232\n",
       "1   2022-09-02   8179\n",
       "2   2022-09-03   7755\n",
       "3   2022-09-04   7231\n",
       "4   2022-09-05   8112\n",
       "..         ...    ...\n",
       "117 2022-12-27  14544\n",
       "118 2022-12-28  14944\n",
       "119 2022-12-29  14303\n",
       "120 2022-12-30  12793\n",
       "121 2022-12-31   9110\n",
       "\n",
       "[122 rows x 2 columns]"
      ]
     },
     "execution_count": 68,
     "metadata": {},
     "output_type": "execute_result"
    }
   ],
   "source": [
    "# plotting line graph\n",
    "df_users"
   ]
  },
  {
   "cell_type": "code",
   "execution_count": 69,
   "id": "c2017906",
   "metadata": {},
   "outputs": [
    {
     "data": {
      "image/png": "[encoded data removed]",
      "text/plain": [
       "<Figure size 864x576 with 1 Axes>"
      ]
     },
     "metadata": {
      "needs_background": "light"
     },
     "output_type": "display_data"
    }
   ],
   "source": [
    "from matplotlib.dates import date2num\n",
    "from datetime import datetime\n",
    "\n",
    "# fig,ax=  plt.subplots(figsize=(10,8))\n",
    "plt.plot(df_users[\"Day Index\"], df_users[\"Users\"], color=\"black\")\n",
    "plt.title(\"Users on Website from September to December 2022\")\n",
    "plt.xlabel(\"Time Period\")\n",
    "plt.ylabel(\"Count of Website Users\")\n",
    "\n",
    "plt.axvspan(date2num(datetime(2022,11,15)), date2num(datetime(2022,12,1)), color=\"red\")\n",
    "plt.show()"
   ]
  },
  {
   "cell_type": "markdown",
   "id": "64478f96",
   "metadata": {},
   "source": [
    "There was a spike in access between mid November and early December. This needs to be examined."
   ]
  },
  {
   "cell_type": "code",
   "execution_count": 70,
   "id": "953d068e",
   "metadata": {},
   "outputs": [
    {
     "data": {
      "image/png": "[encoded data removed]",
      "text/plain": [
       "<Figure size 864x576 with 1 Axes>"
      ]
     },
     "metadata": {
      "needs_background": "light"
     },
     "output_type": "display_data"
    }
   ],
   "source": [
    "alpha=(0.8)\n",
    "sns.barplot(data=df_age, x = \"Age\", y= \"Users\")\n",
    "plt.xlabel(\"Age-groups\")\n",
    "plt.ylabel(\"Number of Users\")\n",
    "plt.title(\"Number of Users By Age-group\", size=16)\n",
    "sns.despine(left=True)"
   ]
  },
  {
   "cell_type": "markdown",
   "id": "46c9b2b7",
   "metadata": {},
   "source": [
    "#### Modelling"
   ]
  },
  {
   "cell_type": "code",
   "execution_count": 72,
   "id": "5556e6f3",
   "metadata": {},
   "outputs": [
    {
     "data": {
      "text/html": [
       "<div>\n",
       "<style scoped>\n",
       "    .dataframe tbody tr th:only-of-type {\n",
       "        vertical-align: middle;\n",
       "    }\n",
       "\n",
       "    .dataframe tbody tr th {\n",
       "        vertical-align: top;\n",
       "    }\n",
       "\n",
       "    .dataframe thead th {\n",
       "        text-align: right;\n",
       "    }\n",
       "</style>\n",
       "<table border=\"1\" class=\"dataframe\">\n",
       "  <thead>\n",
       "    <tr style=\"text-align: right;\">\n",
       "      <th></th>\n",
       "      <th>Ticket ID</th>\n",
       "      <th>Status</th>\n",
       "      <th>Source</th>\n",
       "      <th>Agent</th>\n",
       "      <th>Group</th>\n",
       "      <th>Created time</th>\n",
       "      <th>Month</th>\n",
       "      <th>Last update time</th>\n",
       "      <th>Resolution time (in hrs)</th>\n",
       "      <th>Agent interactions</th>\n",
       "      <th>Customer interactions</th>\n",
       "      <th>First response status</th>\n",
       "      <th>Tags</th>\n",
       "      <th>City</th>\n",
       "      <th>Main reason for contact</th>\n",
       "      <th>In possession of pills</th>\n",
       "      <th>Kind of pills</th>\n",
       "      <th>Amount of pills</th>\n",
       "      <th>Abortion method counselled on</th>\n",
       "      <th>MA</th>\n",
       "      <th>MVA/EVA</th>\n",
       "      <th>D&amp;E</th>\n",
       "      <th>Induction</th>\n",
       "      <th>PAC</th>\n",
       "      <th>Referral</th>\n",
       "      <th>Ability to pay for referral services/products</th>\n",
       "      <th>Reason for not referring</th>\n",
       "      <th>Reason for referral</th>\n",
       "      <th>Referred to on-the-ground org</th>\n",
       "      <th>Referred to direct provider</th>\n",
       "      <th>ageofpregnancy</th>\n",
       "    </tr>\n",
       "  </thead>\n",
       "  <tbody>\n",
       "    <tr>\n",
       "      <th>0</th>\n",
       "      <td>92854</td>\n",
       "      <td>Waiting on User</td>\n",
       "      <td>Email</td>\n",
       "      <td>Julia L</td>\n",
       "      <td>Spanish</td>\n",
       "      <td>2022-09-01 00:01:23</td>\n",
       "      <td>September</td>\n",
       "      <td>2022-09-01 16:32:04</td>\n",
       "      <td>0.0</td>\n",
       "      <td>1</td>\n",
       "      <td>2</td>\n",
       "      <td>Within SLA</td>\n",
       "      <td>not_indicated</td>\n",
       "      <td>not_indicated</td>\n",
       "      <td>Suspected Pregnancy/Pregnancy confirmation</td>\n",
       "      <td>not_indicated</td>\n",
       "      <td>not_indicated</td>\n",
       "      <td>not_indicated</td>\n",
       "      <td>not_indicated</td>\n",
       "      <td>False</td>\n",
       "      <td>False</td>\n",
       "      <td>False</td>\n",
       "      <td>False</td>\n",
       "      <td>False</td>\n",
       "      <td>No</td>\n",
       "      <td>not_indicated</td>\n",
       "      <td>Suspected Pregnancy</td>\n",
       "      <td>not_indicated</td>\n",
       "      <td>False</td>\n",
       "      <td>False</td>\n",
       "      <td>not_indicated-not_indicateddays</td>\n",
       "    </tr>\n",
       "    <tr>\n",
       "      <th>1</th>\n",
       "      <td>92855</td>\n",
       "      <td>Evaluation sent</td>\n",
       "      <td>Chat</td>\n",
       "      <td>No Agent</td>\n",
       "      <td>Spanish</td>\n",
       "      <td>2022-09-01 00:05:46</td>\n",
       "      <td>September</td>\n",
       "      <td>2022-09-27 18:12:41</td>\n",
       "      <td>0.0</td>\n",
       "      <td>0</td>\n",
       "      <td>1</td>\n",
       "      <td>not_indicated</td>\n",
       "      <td>Away conversation</td>\n",
       "      <td>not_indicated</td>\n",
       "      <td>not_indicated</td>\n",
       "      <td>not_indicated</td>\n",
       "      <td>not_indicated</td>\n",
       "      <td>not_indicated</td>\n",
       "      <td>not_indicated</td>\n",
       "      <td>False</td>\n",
       "      <td>False</td>\n",
       "      <td>False</td>\n",
       "      <td>False</td>\n",
       "      <td>False</td>\n",
       "      <td>not_indicated</td>\n",
       "      <td>not_indicated</td>\n",
       "      <td>not_indicated</td>\n",
       "      <td>not_indicated</td>\n",
       "      <td>False</td>\n",
       "      <td>False</td>\n",
       "      <td>not_indicated-not_indicateddays</td>\n",
       "    </tr>\n",
       "  </tbody>\n",
       "</table>\n",
       "</div>"
      ],
      "text/plain": [
       "   Ticket ID           Status Source     Agent    Group         Created time  \\\n",
       "0      92854  Waiting on User  Email   Julia L  Spanish  2022-09-01 00:01:23   \n",
       "1      92855  Evaluation sent   Chat  No Agent  Spanish  2022-09-01 00:05:46   \n",
       "\n",
       "       Month     Last update time  Resolution time (in hrs)  \\\n",
       "0  September  2022-09-01 16:32:04                       0.0   \n",
       "1  September  2022-09-27 18:12:41                       0.0   \n",
       "\n",
       "   Agent interactions  Customer interactions First response status  \\\n",
       "0                   1                      2            Within SLA   \n",
       "1                   0                      1         not_indicated   \n",
       "\n",
       "                Tags           City  \\\n",
       "0      not_indicated  not_indicated   \n",
       "1  Away conversation  not_indicated   \n",
       "\n",
       "                      Main reason for contact In possession of pills  \\\n",
       "0  Suspected Pregnancy/Pregnancy confirmation          not_indicated   \n",
       "1                               not_indicated          not_indicated   \n",
       "\n",
       "   Kind of pills Amount of pills Abortion method counselled on     MA  \\\n",
       "0  not_indicated   not_indicated                 not_indicated  False   \n",
       "1  not_indicated   not_indicated                 not_indicated  False   \n",
       "\n",
       "   MVA/EVA    D&E  Induction    PAC      Referral   \\\n",
       "0    False  False      False  False             No   \n",
       "1    False  False      False  False  not_indicated   \n",
       "\n",
       "  Ability to pay for referral services/products Reason for not referring  \\\n",
       "0                                 not_indicated      Suspected Pregnancy   \n",
       "1                                 not_indicated            not_indicated   \n",
       "\n",
       "  Reason for referral  Referred to on-the-ground org  \\\n",
       "0       not_indicated                          False   \n",
       "1       not_indicated                          False   \n",
       "\n",
       "   Referred to direct provider                   ageofpregnancy  \n",
       "0                        False  not_indicated-not_indicateddays  \n",
       "1                        False  not_indicated-not_indicateddays  "
      ]
     },
     "execution_count": 72,
     "metadata": {},
     "output_type": "execute_result"
    }
   ],
   "source": [
    "df1.head(2)"
   ]
  },
  {
   "cell_type": "markdown",
   "id": "b0f8fa7f",
   "metadata": {},
   "source": [
    "The project will use status as the target variable. Status 0 which mean all the status that is unsolved and not completed and 1\n",
    "will reflect all status that is closed and finished. The aim of the project will be to predict the status of a user and therefore\n",
    "determine whether the website has provide help and effective communication."
   ]
  },
  {
   "cell_type": "code",
   "execution_count": null,
   "id": "7aed6d45",
   "metadata": {},
   "outputs": [],
   "source": []
  },
  {
   "cell_type": "code",
   "execution_count": null,
   "id": "5da99159",
   "metadata": {},
   "outputs": [],
   "source": []
  },
  {
   "cell_type": "code",
   "execution_count": null,
   "id": "f8298409",
   "metadata": {},
   "outputs": [],
   "source": []
  }
 ],
 "metadata": {
  "kernelspec": {
   "display_name": "Python 3 (ipykernel)",
   "language": "python",
   "name": "python3"
  },
  "language_info": {
   "codemirror_mode": {
    "name": "ipython",
    "version": 3
   },
   "file_extension": ".py",
   "mimetype": "text/x-python",
   "name": "python",
   "nbconvert_exporter": "python",
   "pygments_lexer": "ipython3",
   "version": "3.9.12"
  },
  "toc": {
   "base_numbering": 1,
   "nav_menu": {},
   "number_sections": true,
   "sideBar": true,
   "skip_h1_title": false,
   "title_cell": "Table of Contents",
   "title_sidebar": "Contents",
   "toc_cell": false,
   "toc_position": {},
   "toc_section_display": true,
   "toc_window_display": false
  }
 },
 "nbformat": 4,
 "nbformat_minor": 5
}
